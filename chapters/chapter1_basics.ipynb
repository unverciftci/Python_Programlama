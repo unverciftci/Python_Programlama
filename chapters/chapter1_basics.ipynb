{
  "cells": [
    {
      "cell_type": "markdown",
      "metadata": {
        "id": "view-in-github",
        "colab_type": "text"
      },
      "source": [
        "<a href=\"https://colab.research.google.com/github/unverciftci/Python_Programlama/blob/main/chapters/chapter1_basics.ipynb\" target=\"_parent\"><img src=\"https://colab.research.google.com/assets/colab-badge.svg\" alt=\"Open In Colab\"/></a>"
      ]
    },
    {
      "cell_type": "markdown",
      "metadata": {
        "id": "hGNRCpcC5e8x"
      },
      "source": [
        "# Python ile Programlamaya Giriş "
      ]
    },
    {
      "cell_type": "markdown",
      "metadata": {
        "id": "ds8k8yiC5e8z"
      },
      "source": [
        "# 1. Bölüm: Temel Python Konuları "
      ]
    },
    {
      "cell_type": "markdown",
      "metadata": {
        "id": "yPyr50sD5e81"
      },
      "source": [
        "## Chapter Learning Objectives\n",
        "<hr>"
      ]
    },
    {
      "cell_type": "markdown",
      "metadata": {
        "id": "QffeGsWd5e82"
      },
      "source": [
        "- Create, describe and differentiate standard Python datatypes such as `int`, `float`, `string`, `list`, `dict`, `tuple`, etc.\n",
        "- Perform arithmetic operations like `+`, `-`, `*`, `**` on numeric values.\n",
        "- Perform basic string operations like `.lower()`, `.split()` to manipulate strings.\n",
        "- Compute boolean values using comparison operators operations (`==`, `!=`, `>`, etc.) and boolean operators (`and`, `or`, `not`).\n",
        "- Assign, index, slice and subset values to and from tuples, lists, strings and dictionaries.\n",
        "- Write a conditional statement with `if`, `elif` and `else`.\n",
        "- Identify code blocks by levels of indentation.\n",
        "- Explain the difference between mutable objects like a `list` and immutable objects like a `tuple`."
      ]
    },
    {
      "cell_type": "markdown",
      "metadata": {
        "id": "5FOMltxL5e82"
      },
      "source": [
        "## 1. Introduction\n",
        "<hr>"
      ]
    },
    {
      "cell_type": "markdown",
      "metadata": {
        "id": "RIlknRKc5e83"
      },
      "source": [
        "Python bir genel programlama dilidir. Dolayısıyla çok geniş bir yelpazeye sahiptir. Biz sadece veri bilimi ve uygulamalı matematik için yeterli olan konuları inceleyeceğiz. Bu bölümde Python programlama dilinin en temel bileşenleri tanıtılacaktır.   "
      ]
    },
    {
      "cell_type": "markdown",
      "metadata": {
        "id": "BMjoXsiv5e84"
      },
      "source": [
        "## 2. Basic Python Data Types\n",
        "<hr>"
      ]
    },
    {
      "cell_type": "markdown",
      "metadata": {
        "id": "P-DUvO3-5e85"
      },
      "source": [
        "A **value** is a piece of data that a computer program works with such as a number or text. There are different **types** of values: `42` is an integer and `\"Hello!\"` is a string. A **variable** is a name that refers to a value. In mathematics and statistics, we usually use variable names like $x$ and $y$. In Python, we can use any word as a variable name as long as it starts with a letter or an underscore. However, it should not be a [reserved word](https://docs.python.org/3.3/reference/lexical_analysis.html#keywords) in Python such as `for`, `while`, `class`, `lambda`, etc. as these words encode special functionality in Python that we don't want to overwrite!\n",
        "\n",
        "It can be helpful to think of a variable as a box that holds some information (a single number, a vector, a string, etc). We use the **assignment operator** `=` to assign a value to a variable.\n",
        "\n",
        "Değişken (variable), bir değere atıfta bulunan bir addır. Matematik ve istatistikte genellikle 𝑥 ve 𝑦 gibi değişken isimleri kullanırız. Python'da bir harf veya alt çizgi ile başladığı sürece herhangi bir kelimeyi değişken adı olarak kullanabiliriz. Değer (value), bir bilgisayar programının bir sayı veya metin gibi çalıştığı bir veri parçasıdır. Farklı değer türleri vardır: 42 bir tamsayıdır ve \"Merhaba!\" bir dizedir. Ancak, for, while, class, lambda vb. gibi Python'da ayrılmış bir kelime olmamalıdır, çünkü bu kelimeler Python'da üzerine yazmak istemediğimiz özel işlevleri kodlar!\n",
        "\n",
        "Bir değişkeni bazı bilgileri (tek bir sayı, bir vektör, bir dize, vb.) içeren bir kutu olarak düşünmek faydalı olabilir. Bir değişkene değer atamak için = atama operatörünü kullanırız.\n",
        "\n",
        "![](https://github.com/unverciftci/Python_Programlama/blob/main/chapters/img/chapter1/box.png?raw=1)\n",
        "\n",
        "Image modified from: [medium.com](https://www.google.com/url?sa=i&url=https%3A%2F%2Fmedium.com%2F%40stevenpcurtis.sc%2Fwhat-is-a-variable-3447ac1331b9&psig=AOvVaw3YbYfgb7XFOJ_sHP5eliob&ust=1595365663851000&source=images&cd=vfe&ved=0CA0QjhxqFwoTCMi8nrfe3OoCFQAAAAAdAAAAABAZ)\n",
        "\n",
        "```{tip}\n",
        "See the [Python 3 documentation](https://docs.python.org/3/library/stdtypes.html) for a summary of the standard built-in Python datatypes.\n",
        "```"
      ]
    },
    {
      "cell_type": "markdown",
      "metadata": {
        "id": "Cl2RoMaX5e86"
      },
      "source": [
        "### Önceden Tanımlı Veri Tipleri (built-in data types)\n",
        "\n",
        "| İngilizcesi          | Tip İsmi  | Tip Sınıfı  | Açıklama                                   | Örnek                                    |\n",
        "| :-------------------- | :--------- | :------------- | :-------------------------------------------- | :----------------------------------------- |\n",
        "| integer               | `int`      | Numeric Type   | positifi veya negatif tam sayı               | `42`                                       |\n",
        "| floating point number | `float`    | Numeric Type   | ondalılklı reel sayı                   | `3.14159`                                  |\n",
        "| boolean               | `bool`     | Boolean Values | doğru veya yanlış                                 | `True`                                     |\n",
        "| string                | `str`      | Sequence Type  | düzyazı                                          | `\"I Can Has Cheezburger?\"`                 |\n",
        "| list                  | `list`     | Sequence Type  | sıralı ve değiştirilebilir nesneler  | `['Ali', 'Xinyi', 'Miriam']`               |\n",
        "| tuple                 | `tuple`    | Sequence Type  | sıralı ve değiştirilemez nesneler | `('Thursday', 6, 9, 2018)`                 |\n",
        "| dictionary            | `dict`     | Mapping Type   | anahtar-değer eşlemesi                    | `{'name':'DSCI', 'code':511, 'credits':2}` |\n",
        "| none                  | `NoneType` | Null Object    | değer atanmamış                           | `None`                                     |"
      ]
    },
    {
      "cell_type": "markdown",
      "metadata": {
        "id": "otVv5mLI5e87"
      },
      "source": [
        "### Sayısal Veri Tipleri"
      ]
    },
    {
      "cell_type": "markdown",
      "metadata": {
        "id": "QVWi6sNe5e88"
      },
      "source": [
        "There are three distinct numeric types: `integers`, `floating point numbers`, and `complex numbers` (not covered here). We can determine the type of an object in Python using `type()`. We can print the value of the object using `print()`.\n",
        "\n",
        "Üç farklı sayısal tür vardır: tamsayılar, kayan noktalı sayılar ve karmaşık sayılar (burada ele alınmamaktadır). Python'da type() kullanarak bir nesnenin tipini belirleyebiliriz. print() kullanarak nesnenin değerini yazdırabiliriz."
      ]
    },
    {
      "cell_type": "code",
      "execution_count": null,
      "metadata": {
        "id": "ScHthSfo5e88"
      },
      "outputs": [],
      "source": [
        "x = 42"
      ]
    },
    {
      "cell_type": "code",
      "execution_count": null,
      "metadata": {
        "id": "JeXJjEcF5e89",
        "outputId": "5cba516f-18c7-424c-d68f-31bf52425f0b"
      },
      "outputs": [
        {
          "data": {
            "text/plain": [
              "int"
            ]
          },
          "execution_count": 2,
          "metadata": {},
          "output_type": "execute_result"
        }
      ],
      "source": [
        "type(x)"
      ]
    },
    {
      "cell_type": "code",
      "execution_count": null,
      "metadata": {
        "id": "OqIZ-FzH5e89",
        "outputId": "0f973eb0-efe1-4d82-92d7-1601f8416f7a"
      },
      "outputs": [
        {
          "name": "stdout",
          "output_type": "stream",
          "text": [
            "42\n"
          ]
        }
      ],
      "source": [
        "print(x)"
      ]
    },
    {
      "cell_type": "markdown",
      "metadata": {
        "id": "OcdLpKZq5e8-"
      },
      "source": [
        "In Jupyter/IPython (an interactive version of Python), the last line of a cell will automatically be printed to screen so we don't actually need to explicitly call `print()`.\n",
        "\n",
        "Jupyter/IPython'da (Python'un etkileşimli bir versiyonu), bir hücrenin son satırı otomatik olarak ekrana yazdırılacaktır, bu nedenle aslında açıkça 'print()' çağırmamız gerekmez."
      ]
    },
    {
      "cell_type": "code",
      "execution_count": null,
      "metadata": {
        "id": "Y1eA61Wj5e8-",
        "outputId": "10c9ca4b-a9d5-44fd-be43-e3b18d375988"
      },
      "outputs": [
        {
          "data": {
            "text/plain": [
              "42"
            ]
          },
          "execution_count": 4,
          "metadata": {},
          "output_type": "execute_result"
        }
      ],
      "source": [
        "x  # Anything after the pound/hash symbol is a comment and will not be run"
      ]
    },
    {
      "cell_type": "code",
      "execution_count": null,
      "metadata": {
        "id": "IE0UMpUi5e8_",
        "outputId": "a62c4a37-e10c-4a08-aac6-3ad3168320c7"
      },
      "outputs": [
        {
          "data": {
            "text/plain": [
              "3.14159"
            ]
          },
          "execution_count": 6,
          "metadata": {},
          "output_type": "execute_result"
        }
      ],
      "source": [
        "pi = 3.14159\n",
        "pi"
      ]
    },
    {
      "cell_type": "code",
      "execution_count": null,
      "metadata": {
        "id": "pYge2w4C5e8_",
        "outputId": "bc21dcac-ede8-4252-85fe-15f531bb25f0"
      },
      "outputs": [
        {
          "data": {
            "text/plain": [
              "float"
            ]
          },
          "execution_count": 7,
          "metadata": {},
          "output_type": "execute_result"
        }
      ],
      "source": [
        "type(pi)"
      ]
    },
    {
      "cell_type": "markdown",
      "metadata": {
        "id": "0EXU4eAy5e9A"
      },
      "source": [
        "### Cebirsel İşlemler\n",
        "\n",
        "Python'da yaygın olarak kullanılan aritmetik işlemler için sözdizimi tablosu aşağıdadır:\n",
        "\n",
        "| İşlem |   Açıklama    |\n",
        "| :------: | :--------------: |\n",
        "|   `+`    |     toplama     |\n",
        "|   `-`    |   çıkarma    |\n",
        "|   `*`    |  çarpma  |\n",
        "|   `/`    |     bölme     |\n",
        "|   `**`   |  kuvvet  |\n",
        "|   `//`   | kalansız bölme |\n",
        "|   `%`    |      kalanı bulma      |\n",
        "\n",
        "Let's have a go at applying these operators to numeric types and observe the results.\n",
        "\n",
        "Şimdi bu operatörleri sayısal türlere uygulayalım ve sonuçları gözlemleyelim."
      ]
    },
    {
      "cell_type": "code",
      "execution_count": null,
      "metadata": {
        "id": "9UZcJRgM5e9B",
        "outputId": "bd90e4ad-bc6b-44ee-d7b2-b1f93a48a26c"
      },
      "outputs": [
        {
          "data": {
            "text/plain": [
              "15"
            ]
          },
          "execution_count": 8,
          "metadata": {},
          "output_type": "execute_result"
        }
      ],
      "source": [
        "1 + 2 + 3 + 4 + 5  # add"
      ]
    },
    {
      "cell_type": "code",
      "execution_count": null,
      "metadata": {
        "id": "1ES7LkNc5e9B",
        "outputId": "4589bad1-f127-458f-a59f-ff25cf11e15e"
      },
      "outputs": [
        {
          "data": {
            "text/plain": [
              "6.28318"
            ]
          },
          "execution_count": 9,
          "metadata": {},
          "output_type": "execute_result"
        }
      ],
      "source": [
        "2 * 3.14159  # multiply"
      ]
    },
    {
      "cell_type": "code",
      "execution_count": null,
      "metadata": {
        "id": "VzRzPg1Y5e9B",
        "outputId": "4bfd20b2-b394-4c78-9ded-96bbf73d209c"
      },
      "outputs": [
        {
          "data": {
            "text/plain": [
              "1024"
            ]
          },
          "execution_count": 10,
          "metadata": {},
          "output_type": "execute_result"
        }
      ],
      "source": [
        "2 ** 10  # exponent"
      ]
    },
    {
      "cell_type": "markdown",
      "metadata": {
        "id": "XDSCpcvF5e9C"
      },
      "source": [
        "Division may produce a different `dtype` than expected, it will change `int` to `float`."
      ]
    },
    {
      "cell_type": "code",
      "execution_count": null,
      "metadata": {
        "id": "WjyUcR3Z5e9C",
        "outputId": "5d1bbea1-202d-4319-83f8-0cbe06cec970"
      },
      "outputs": [
        {
          "data": {
            "text/plain": [
              "int"
            ]
          },
          "execution_count": 14,
          "metadata": {},
          "output_type": "execute_result"
        }
      ],
      "source": [
        "int_2 = 2\n",
        "type(int_2)"
      ]
    },
    {
      "cell_type": "code",
      "execution_count": null,
      "metadata": {
        "id": "yPKE3sfs5e9C",
        "outputId": "c187ec7a-0c66-4245-af7e-73e2698c8d8d"
      },
      "outputs": [
        {
          "data": {
            "text/plain": [
              "1.0"
            ]
          },
          "execution_count": 15,
          "metadata": {},
          "output_type": "execute_result"
        }
      ],
      "source": [
        "int_2 / int_2  # divison"
      ]
    },
    {
      "cell_type": "code",
      "execution_count": null,
      "metadata": {
        "id": "Ig9K4-jt5e9D",
        "outputId": "67775bd1-0a91-418e-9dc1-d8ba6b6923fd"
      },
      "outputs": [
        {
          "data": {
            "text/plain": [
              "float"
            ]
          },
          "execution_count": 16,
          "metadata": {},
          "output_type": "execute_result"
        }
      ],
      "source": [
        "type(int_2 / int_2)"
      ]
    },
    {
      "cell_type": "markdown",
      "metadata": {
        "id": "gKA9gaSP5e9D"
      },
      "source": [
        "But the syntax `//` allows us to do \"integer division\" (aka \"floor division\") and retain the `int` data type, it always rounds down."
      ]
    },
    {
      "cell_type": "code",
      "execution_count": null,
      "metadata": {
        "id": "yLBKJsYW5e9D",
        "outputId": "811e9047-eb1c-4045-aaa4-cb632906a350"
      },
      "outputs": [
        {
          "data": {
            "text/plain": [
              "50.5"
            ]
          },
          "execution_count": 17,
          "metadata": {},
          "output_type": "execute_result"
        }
      ],
      "source": [
        "101 / 2"
      ]
    },
    {
      "cell_type": "code",
      "execution_count": null,
      "metadata": {
        "id": "2NTiXfwt5e9E",
        "outputId": "56c9ec8e-a597-4a86-a6f5-889845dd4e67"
      },
      "outputs": [
        {
          "data": {
            "text/plain": [
              "50"
            ]
          },
          "execution_count": 18,
          "metadata": {},
          "output_type": "execute_result"
        }
      ],
      "source": [
        "101 // 2  # \"floor division\" - always rounds down"
      ]
    },
    {
      "cell_type": "markdown",
      "metadata": {
        "id": "zwo9wSw35e9E"
      },
      "source": [
        "We refer to this as \"integer division\" or \"floor division\" because it's like calling `int` on the result of a division, which rounds down to the nearest integer, or \"floors\" the result."
      ]
    },
    {
      "cell_type": "code",
      "execution_count": null,
      "metadata": {
        "id": "DnEAxZy65e9F",
        "outputId": "d9055bbd-2995-4c1d-a566-0d1ffc294650"
      },
      "outputs": [
        {
          "data": {
            "text/plain": [
              "50"
            ]
          },
          "execution_count": 19,
          "metadata": {},
          "output_type": "execute_result"
        }
      ],
      "source": [
        "int(101 / 2)"
      ]
    },
    {
      "cell_type": "markdown",
      "metadata": {
        "id": "VDvEJnad5e9F"
      },
      "source": [
        "The `%` \"modulo\" operator gives us the remainder after division."
      ]
    },
    {
      "cell_type": "code",
      "execution_count": null,
      "metadata": {
        "id": "jQebyTyQ5e9F",
        "outputId": "e52abd50-e37d-468f-9515-3ea6e48a1467"
      },
      "outputs": [
        {
          "data": {
            "text/plain": [
              "0"
            ]
          },
          "execution_count": 20,
          "metadata": {},
          "output_type": "execute_result"
        }
      ],
      "source": [
        "100 % 2  # \"100 mod 2\", or the remainder when 100 is divided by 2"
      ]
    },
    {
      "cell_type": "code",
      "execution_count": null,
      "metadata": {
        "id": "Zskz3Qaj5e9G",
        "outputId": "254ef63f-e5a0-471d-dc18-8117501dc3e3"
      },
      "outputs": [
        {
          "data": {
            "text/plain": [
              "1"
            ]
          },
          "execution_count": 21,
          "metadata": {},
          "output_type": "execute_result"
        }
      ],
      "source": [
        "101 % 2  # \"101 mod 2\", or the remainder when 101 is divided by 2"
      ]
    },
    {
      "cell_type": "code",
      "execution_count": null,
      "metadata": {
        "id": "S_M0h8kz5e9G",
        "outputId": "bf18ff94-c419-4d01-a24b-daf1ab2cff47"
      },
      "outputs": [
        {
          "data": {
            "text/plain": [
              "0.5"
            ]
          },
          "execution_count": 22,
          "metadata": {},
          "output_type": "execute_result"
        }
      ],
      "source": [
        "100.5 % 2"
      ]
    },
    {
      "cell_type": "markdown",
      "metadata": {
        "id": "c_VU1H9j5e9G"
      },
      "source": [
        "### None\n",
        "\n",
        "`NoneType` is its own type in Python. It only has one possible value, `None` - it represents an object with no value. We'll see it again in a later chapter."
      ]
    },
    {
      "cell_type": "code",
      "execution_count": null,
      "metadata": {
        "id": "g7NlH-HT5e9H"
      },
      "outputs": [],
      "source": [
        "x = None"
      ]
    },
    {
      "cell_type": "code",
      "execution_count": null,
      "metadata": {
        "id": "QpyABDE85e9H",
        "outputId": "25f2613b-440a-4757-96a8-e4f4e7595feb"
      },
      "outputs": [
        {
          "name": "stdout",
          "output_type": "stream",
          "text": [
            "None\n"
          ]
        }
      ],
      "source": [
        "print(x)"
      ]
    },
    {
      "cell_type": "code",
      "execution_count": null,
      "metadata": {
        "id": "_N6fUhrQ5e9H",
        "outputId": "9afb5973-7370-4730-e77b-4e2d9a8c4935"
      },
      "outputs": [
        {
          "data": {
            "text/plain": [
              "NoneType"
            ]
          },
          "execution_count": 27,
          "metadata": {},
          "output_type": "execute_result"
        }
      ],
      "source": [
        "type(x)"
      ]
    },
    {
      "cell_type": "markdown",
      "metadata": {
        "id": "5tYMLb-V5e9H"
      },
      "source": [
        "### Strings\n",
        "\n",
        "Text is stored as a data type called a `string`. We can think of a string as a sequence of characters. \n",
        "\n",
        "```{tip}\n",
        "Actually they are a sequence of Unicode code points. Here's a [great blog post](https://www.joelonsoftware.com/2003/10/08/the-absolute-minimum-every-software-developer-absolutely-positively-must-know-about-unicode-and-character-sets-no-excuses/) on Unicode if you're interested.\n",
        "```\n",
        "\n",
        "We write strings as characters enclosed with either:\n",
        "  - single quotes, e.g., `'Hello'` \n",
        "  - double quotes, e.g., `\"Goodbye\"`\n",
        "\n",
        "There's no difference between the two methods, but there are cases where having both is useful (more on that below)! We also have triple double quotes, which are typically used for function documentation (more on that in a later chapter), e.g., `\"\"\"This function adds two numbers\"\"\"`."
      ]
    },
    {
      "cell_type": "code",
      "execution_count": null,
      "metadata": {
        "id": "OvMqZgC55e9I"
      },
      "outputs": [],
      "source": [
        "my_name = \"Tomas Beuzen\""
      ]
    },
    {
      "cell_type": "code",
      "execution_count": null,
      "metadata": {
        "id": "b_ARMg3P5e9I",
        "outputId": "00d74c01-7b50-486d-d8a2-31f17dde3315"
      },
      "outputs": [
        {
          "data": {
            "text/plain": [
              "'Tomas Beuzen'"
            ]
          },
          "execution_count": 29,
          "metadata": {},
          "output_type": "execute_result"
        }
      ],
      "source": [
        "my_name"
      ]
    },
    {
      "cell_type": "code",
      "execution_count": null,
      "metadata": {
        "id": "zMvnGQn15e9I",
        "outputId": "3f84d9d7-12d7-4252-e49d-cf219b8ccc94"
      },
      "outputs": [
        {
          "data": {
            "text/plain": [
              "str"
            ]
          },
          "execution_count": 30,
          "metadata": {},
          "output_type": "execute_result"
        }
      ],
      "source": [
        "type(my_name)"
      ]
    },
    {
      "cell_type": "code",
      "execution_count": null,
      "metadata": {
        "id": "dN99s_Qw5e9I"
      },
      "outputs": [],
      "source": [
        "course = 'DSCI 511'"
      ]
    },
    {
      "cell_type": "code",
      "execution_count": null,
      "metadata": {
        "id": "pMKFqcAH5e9I",
        "outputId": "d97d84b0-ab52-4607-c197-8693546ece74"
      },
      "outputs": [
        {
          "data": {
            "text/plain": [
              "'DSCI 511'"
            ]
          },
          "execution_count": 32,
          "metadata": {},
          "output_type": "execute_result"
        }
      ],
      "source": [
        "course"
      ]
    },
    {
      "cell_type": "code",
      "execution_count": null,
      "metadata": {
        "id": "E_lD2kAi5e9I",
        "outputId": "026ebf03-4ad7-44b4-b432-884c2638e2a0"
      },
      "outputs": [
        {
          "data": {
            "text/plain": [
              "str"
            ]
          },
          "execution_count": 33,
          "metadata": {},
          "output_type": "execute_result"
        }
      ],
      "source": [
        "type(course)"
      ]
    },
    {
      "cell_type": "markdown",
      "metadata": {
        "id": "ErVL7y8X5e9I"
      },
      "source": [
        "If the string contains a quotation or apostrophe, we can use a combination of single and double quotes to define the string."
      ]
    },
    {
      "cell_type": "code",
      "execution_count": null,
      "metadata": {
        "id": "UD3lFj3I5e9J"
      },
      "outputs": [],
      "source": [
        "sentence = \"It's a rainy day.\""
      ]
    },
    {
      "cell_type": "code",
      "execution_count": null,
      "metadata": {
        "id": "VKfXF9Ab5e9J",
        "outputId": "e4e05baa-4281-4e72-b4ca-c0e9462aa19f"
      },
      "outputs": [
        {
          "data": {
            "text/plain": [
              "\"It's a rainy day.\""
            ]
          },
          "execution_count": 35,
          "metadata": {},
          "output_type": "execute_result"
        }
      ],
      "source": [
        "sentence"
      ]
    },
    {
      "cell_type": "code",
      "execution_count": null,
      "metadata": {
        "id": "7IIKM7ks5e9K",
        "outputId": "760e578a-1901-4be8-a16f-83ca38a86604"
      },
      "outputs": [
        {
          "data": {
            "text/plain": [
              "str"
            ]
          },
          "execution_count": 36,
          "metadata": {},
          "output_type": "execute_result"
        }
      ],
      "source": [
        "type(sentence)"
      ]
    },
    {
      "cell_type": "code",
      "execution_count": null,
      "metadata": {
        "id": "UPrXHXzZ5e9L"
      },
      "outputs": [],
      "source": [
        "quote = 'Donald Knuth: \"Premature optimization is the root of all evil.\"'"
      ]
    },
    {
      "cell_type": "code",
      "execution_count": null,
      "metadata": {
        "id": "IYd_GcGQ5e9L",
        "outputId": "adc34c0d-453d-4f53-b9fb-010f2ce1f257"
      },
      "outputs": [
        {
          "data": {
            "text/plain": [
              "'Donald Knuth: \"Premature optimization is the root of all evil.\"'"
            ]
          },
          "execution_count": 38,
          "metadata": {},
          "output_type": "execute_result"
        }
      ],
      "source": [
        "quote"
      ]
    },
    {
      "cell_type": "markdown",
      "metadata": {
        "id": "MHUt6M5q5e9L"
      },
      "source": [
        "### Boolean\n",
        "\n",
        "The Boolean (`bool`) type has two values: `True` and `False`."
      ]
    },
    {
      "cell_type": "code",
      "execution_count": null,
      "metadata": {
        "id": "rC4o2OJQ5e9L"
      },
      "outputs": [],
      "source": [
        "the_truth = True"
      ]
    },
    {
      "cell_type": "code",
      "execution_count": null,
      "metadata": {
        "id": "adpvWIfR5e9M",
        "outputId": "873abd5a-2ef8-4f87-a78d-0c1e0b07f432"
      },
      "outputs": [
        {
          "data": {
            "text/plain": [
              "True"
            ]
          },
          "execution_count": 42,
          "metadata": {},
          "output_type": "execute_result"
        }
      ],
      "source": [
        "the_truth"
      ]
    },
    {
      "cell_type": "code",
      "execution_count": null,
      "metadata": {
        "id": "GK5e9A-Y5e9M",
        "outputId": "0ccdbfde-0d93-4340-8d47-5bdde9e231e1"
      },
      "outputs": [
        {
          "data": {
            "text/plain": [
              "bool"
            ]
          },
          "execution_count": 43,
          "metadata": {},
          "output_type": "execute_result"
        }
      ],
      "source": [
        "type(the_truth)"
      ]
    },
    {
      "cell_type": "code",
      "execution_count": null,
      "metadata": {
        "id": "OlPrMrbS5e9M"
      },
      "outputs": [],
      "source": [
        "lies = False"
      ]
    },
    {
      "cell_type": "code",
      "execution_count": null,
      "metadata": {
        "id": "kmjtpgQ15e9M",
        "outputId": "1a928a70-0c49-4c6a-8fa8-eaca5c4bd51c"
      },
      "outputs": [
        {
          "data": {
            "text/plain": [
              "False"
            ]
          },
          "execution_count": 45,
          "metadata": {},
          "output_type": "execute_result"
        }
      ],
      "source": [
        "lies"
      ]
    },
    {
      "cell_type": "code",
      "execution_count": null,
      "metadata": {
        "id": "bo3WEda25e9M",
        "outputId": "8a9976c2-96f0-4496-8344-1d98179467e8"
      },
      "outputs": [
        {
          "data": {
            "text/plain": [
              "bool"
            ]
          },
          "execution_count": 46,
          "metadata": {},
          "output_type": "execute_result"
        }
      ],
      "source": [
        "type(lies)"
      ]
    },
    {
      "cell_type": "markdown",
      "metadata": {
        "id": "KPNbdDco5e9M"
      },
      "source": [
        "### Comparison Operators\n",
        "\n",
        "We can compare objects using comparison operators, and we'll get back a Boolean result:\n",
        "\n",
        "| Operator  | Description                          |\n",
        "| :-------- | :----------------------------------- |\n",
        "| `x == y ` | is `x` equal to `y`?                 |\n",
        "| `x != y`  | is `x` not equal to `y`?             |\n",
        "| `x > y`   | is `x` greater than `y`?             |\n",
        "| `x >= y`  | is `x` greater than or equal to `y`? |\n",
        "| `x < y`   | is `x` less than `y`?                |\n",
        "| `x <= y`  | is `x` less than or equal to `y`?    |\n",
        "| `x is y`  | is `x` the same object as `y`?       |"
      ]
    },
    {
      "cell_type": "code",
      "execution_count": null,
      "metadata": {
        "id": "upbZo9u_5e9N",
        "outputId": "9a8b3270-bb67-4679-e055-e7d9eeccd7f1"
      },
      "outputs": [
        {
          "data": {
            "text/plain": [
              "True"
            ]
          },
          "execution_count": 47,
          "metadata": {},
          "output_type": "execute_result"
        }
      ],
      "source": [
        "2 < 3"
      ]
    },
    {
      "cell_type": "code",
      "execution_count": null,
      "metadata": {
        "id": "RPrclOoh5e9N",
        "outputId": "64d51ea8-2b91-4965-9e0e-546a6d3a3401"
      },
      "outputs": [
        {
          "data": {
            "text/plain": [
              "False"
            ]
          },
          "execution_count": 48,
          "metadata": {},
          "output_type": "execute_result"
        }
      ],
      "source": [
        "\"Deep learning\" == \"Solve all the world's problems\""
      ]
    },
    {
      "cell_type": "code",
      "execution_count": null,
      "metadata": {
        "id": "TvOu1M8m5e9N",
        "outputId": "e25f29fe-05c3-4c65-ff76-5ac663de47ca"
      },
      "outputs": [
        {
          "data": {
            "text/plain": [
              "True"
            ]
          },
          "execution_count": 49,
          "metadata": {},
          "output_type": "execute_result"
        }
      ],
      "source": [
        "2 != \"2\""
      ]
    },
    {
      "cell_type": "code",
      "execution_count": null,
      "metadata": {
        "id": "RU1wIZz35e9N",
        "outputId": "75863b86-f931-493c-bfe7-4b7647a6fb35"
      },
      "outputs": [
        {
          "data": {
            "text/plain": [
              "True"
            ]
          },
          "execution_count": 50,
          "metadata": {},
          "output_type": "execute_result"
        }
      ],
      "source": [
        "2 is 2"
      ]
    },
    {
      "cell_type": "code",
      "execution_count": null,
      "metadata": {
        "id": "d8WbQBv45e9O",
        "outputId": "0cb60c89-8612-4d9d-de0d-b709ad5f3501"
      },
      "outputs": [
        {
          "data": {
            "text/plain": [
              "True"
            ]
          },
          "execution_count": 51,
          "metadata": {},
          "output_type": "execute_result"
        }
      ],
      "source": [
        "2 == 2.0"
      ]
    },
    {
      "cell_type": "markdown",
      "metadata": {
        "id": "1_pzfnKR5e9O"
      },
      "source": [
        "### Boolean Operators\n",
        "\n",
        "We also have so-called \"boolean operators\" which also evaluates to either `True` or `False`:\n",
        "\n",
        "| Operator | Description |\n",
        "| :---: | :--- |\n",
        "|`x and y`| are `x` and `y` both True? |\n",
        "|`x or y` | is at least one of `x` and `y` True? |\n",
        "| `not x` | is `x` False? | "
      ]
    },
    {
      "cell_type": "code",
      "execution_count": null,
      "metadata": {
        "id": "j_VwM96x5e9O",
        "outputId": "d777aa1a-af48-4ac6-9aea-fd49489289ff"
      },
      "outputs": [
        {
          "data": {
            "text/plain": [
              "True"
            ]
          },
          "execution_count": 53,
          "metadata": {},
          "output_type": "execute_result"
        }
      ],
      "source": [
        "True and True"
      ]
    },
    {
      "cell_type": "code",
      "execution_count": null,
      "metadata": {
        "id": "cyYw4Wtv5e9O",
        "outputId": "513655c0-5588-40f1-aa2e-e390cb9023a3"
      },
      "outputs": [
        {
          "data": {
            "text/plain": [
              "False"
            ]
          },
          "execution_count": 54,
          "metadata": {},
          "output_type": "execute_result"
        }
      ],
      "source": [
        "True and False"
      ]
    },
    {
      "cell_type": "code",
      "execution_count": null,
      "metadata": {
        "id": "760OVXW05e9O",
        "outputId": "6732bdda-22be-48b1-b4fc-ee1098bf1555"
      },
      "outputs": [
        {
          "data": {
            "text/plain": [
              "True"
            ]
          },
          "execution_count": 55,
          "metadata": {},
          "output_type": "execute_result"
        }
      ],
      "source": [
        "True or False"
      ]
    },
    {
      "cell_type": "code",
      "execution_count": null,
      "metadata": {
        "id": "CO3mxNlS5e9O",
        "outputId": "7510e07a-ec46-4b08-a2c4-de6f0d5bc0c6"
      },
      "outputs": [
        {
          "data": {
            "text/plain": [
              "False"
            ]
          },
          "execution_count": 56,
          "metadata": {},
          "output_type": "execute_result"
        }
      ],
      "source": [
        "False or False"
      ]
    },
    {
      "cell_type": "code",
      "execution_count": null,
      "metadata": {
        "id": "vIGD-hyN5e9O",
        "outputId": "eaa4a8c4-2163-4856-b333-ef1d2bf496e2"
      },
      "outputs": [
        {
          "data": {
            "text/plain": [
              "True"
            ]
          },
          "execution_count": 57,
          "metadata": {},
          "output_type": "execute_result"
        }
      ],
      "source": [
        "(\"Python 2\" != \"Python 3\") and (2 <= 3)"
      ]
    },
    {
      "cell_type": "code",
      "execution_count": null,
      "metadata": {
        "id": "zGc2NUGt5e9P",
        "outputId": "1fa2b9d9-6469-42f7-d171-a8dd174b10fd"
      },
      "outputs": [
        {
          "data": {
            "text/plain": [
              "True"
            ]
          },
          "execution_count": 58,
          "metadata": {},
          "output_type": "execute_result"
        }
      ],
      "source": [
        "True"
      ]
    },
    {
      "cell_type": "code",
      "execution_count": null,
      "metadata": {
        "id": "sr_vnra05e9P",
        "outputId": "960352e1-e2f6-482f-924a-730996105189"
      },
      "outputs": [
        {
          "data": {
            "text/plain": [
              "False"
            ]
          },
          "execution_count": 59,
          "metadata": {},
          "output_type": "execute_result"
        }
      ],
      "source": [
        "not True"
      ]
    },
    {
      "cell_type": "code",
      "execution_count": null,
      "metadata": {
        "id": "xZ6CInQR5e9P",
        "outputId": "d1ebe76c-f544-4621-ce41-366d3310e290"
      },
      "outputs": [
        {
          "data": {
            "text/plain": [
              "True"
            ]
          },
          "execution_count": 60,
          "metadata": {},
          "output_type": "execute_result"
        }
      ],
      "source": [
        "not not True"
      ]
    },
    {
      "cell_type": "markdown",
      "metadata": {
        "id": "htnL9HFj5e9P"
      },
      "source": [
        "```{note}\n",
        "Python also has [bitwise operators](https://wiki.python.org/moin/BitwiseOperators) like `&` and `|`. Bitwise operators literally compare the bits of two integers. That's beyond the scope of this course but I've included a code snippet below to show you them in action.\n",
        "```"
      ]
    },
    {
      "cell_type": "code",
      "execution_count": null,
      "metadata": {
        "id": "0dVZrhNa5e9Q",
        "outputId": "73e4a283-96d1-4918-e37f-9fb5d464bead"
      },
      "outputs": [
        {
          "name": "stdout",
          "output_type": "stream",
          "text": [
            "Bit representation of the number 5: 101\n",
            "Bit representation of the number 4: 100\n",
            "                                    ↓↓↓\n",
            "                                    100\n",
            "                                     ↓ \n",
            "                                     4\n"
          ]
        }
      ],
      "source": [
        "print(f\"Bit representation of the number 5: {5:0b}\")\n",
        "print(f\"Bit representation of the number 4: {4:0b}\")\n",
        "print(f\"                                    ↓↓↓\")\n",
        "print(f\"                                    {5 & 4:0b}\")\n",
        "print(f\"                                     ↓ \")\n",
        "print(f\"                                     {5 & 4}\")"
      ]
    },
    {
      "cell_type": "markdown",
      "metadata": {
        "id": "S97G0rRd5e9Q"
      },
      "source": [
        "### Casting\n",
        "\n",
        "Sometimes we need to explicitly **cast** a value from one type to another. We can do this using functions like `str()`, `int()`, and `float()`. Python tries to do the conversion, or throws an error if it can't."
      ]
    },
    {
      "cell_type": "code",
      "execution_count": null,
      "metadata": {
        "id": "y55O5yp85e9Q",
        "outputId": "c831ab60-b528-416c-ffa5-0f39ab4ce8c3"
      },
      "outputs": [
        {
          "data": {
            "text/plain": [
              "float"
            ]
          },
          "execution_count": 62,
          "metadata": {},
          "output_type": "execute_result"
        }
      ],
      "source": [
        "x = 5.0\n",
        "type(x)"
      ]
    },
    {
      "cell_type": "code",
      "execution_count": null,
      "metadata": {
        "id": "L0VBEBTx5e9R",
        "outputId": "5241a077-fcf9-48be-c873-cd0e24b2b02c"
      },
      "outputs": [
        {
          "data": {
            "text/plain": [
              "5"
            ]
          },
          "execution_count": 63,
          "metadata": {},
          "output_type": "execute_result"
        }
      ],
      "source": [
        "x = int(5.0)\n",
        "x"
      ]
    },
    {
      "cell_type": "code",
      "execution_count": null,
      "metadata": {
        "id": "7G9YgULp5e9R",
        "outputId": "924d929c-25b5-4933-dc43-77f973a82cda"
      },
      "outputs": [
        {
          "data": {
            "text/plain": [
              "int"
            ]
          },
          "execution_count": 64,
          "metadata": {},
          "output_type": "execute_result"
        }
      ],
      "source": [
        "type(x)"
      ]
    },
    {
      "cell_type": "code",
      "execution_count": null,
      "metadata": {
        "id": "eafqdAyU5e9S",
        "outputId": "04815a82-556e-4333-a127-7cde0b997318"
      },
      "outputs": [
        {
          "data": {
            "text/plain": [
              "'5.0'"
            ]
          },
          "execution_count": 65,
          "metadata": {},
          "output_type": "execute_result"
        }
      ],
      "source": [
        "x = str(5.0)\n",
        "x"
      ]
    },
    {
      "cell_type": "code",
      "execution_count": null,
      "metadata": {
        "id": "tWrPGBzz5e9S",
        "outputId": "74941c17-3ebd-4b80-e0dd-89dd41301fbb"
      },
      "outputs": [
        {
          "data": {
            "text/plain": [
              "str"
            ]
          },
          "execution_count": 66,
          "metadata": {},
          "output_type": "execute_result"
        }
      ],
      "source": [
        "type(x)"
      ]
    },
    {
      "cell_type": "code",
      "execution_count": null,
      "metadata": {
        "id": "Al4Fpp6L5e9S",
        "outputId": "ad97513d-d313-4ec0-cb93-d7ba60dc0523"
      },
      "outputs": [
        {
          "data": {
            "text/plain": [
              "False"
            ]
          },
          "execution_count": 67,
          "metadata": {},
          "output_type": "execute_result"
        }
      ],
      "source": [
        "str(5.0) == 5.0"
      ]
    },
    {
      "cell_type": "code",
      "execution_count": null,
      "metadata": {
        "id": "XwC5iDBI5e9S",
        "outputId": "e968b513-9049-4b76-ee33-bb849c9493c8"
      },
      "outputs": [
        {
          "data": {
            "text/plain": [
              "5"
            ]
          },
          "execution_count": 68,
          "metadata": {},
          "output_type": "execute_result"
        }
      ],
      "source": [
        "int(5.3)"
      ]
    },
    {
      "cell_type": "code",
      "execution_count": null,
      "metadata": {
        "tags": [
          "raises-exception"
        ],
        "id": "CIzxGDQ15e9S",
        "outputId": "2a039a54-5e44-4c39-e4ee-c85832345a80"
      },
      "outputs": [
        {
          "ename": "ValueError",
          "evalue": "could not convert string to float: 'hello'",
          "output_type": "error",
          "traceback": [
            "\u001b[0;31m---------------------------------------------------------------------------\u001b[0m",
            "\u001b[0;31mValueError\u001b[0m                                Traceback (most recent call last)",
            "\u001b[0;32m<ipython-input-69-7124e8e12e61>\u001b[0m in \u001b[0;36m<module>\u001b[0;34m\u001b[0m\n\u001b[0;32m----> 1\u001b[0;31m \u001b[0mfloat\u001b[0m\u001b[0;34m(\u001b[0m\u001b[0;34m\"hello\"\u001b[0m\u001b[0;34m)\u001b[0m\u001b[0;34m\u001b[0m\u001b[0;34m\u001b[0m\u001b[0m\n\u001b[0m",
            "\u001b[0;31mValueError\u001b[0m: could not convert string to float: 'hello'"
          ]
        }
      ],
      "source": [
        "float(\"hello\")"
      ]
    },
    {
      "cell_type": "markdown",
      "metadata": {
        "id": "Rv18_tiD5e9S"
      },
      "source": [
        "## 3. Lists and Tuples\n",
        "<hr>"
      ]
    },
    {
      "cell_type": "markdown",
      "metadata": {
        "id": "26qcJjuP5e9T"
      },
      "source": [
        "Lists and tuples allow us to store multiple things (\"elements\") in a single object. The elements are _ordered_ (we'll explore what that means a little later). We'll start with lists. Lists are defined with square brackets `[]`."
      ]
    },
    {
      "cell_type": "code",
      "execution_count": null,
      "metadata": {
        "id": "S1tJvwM05e9T"
      },
      "outputs": [],
      "source": [
        "my_list = [1, 2, \"THREE\", 4, 0.5]"
      ]
    },
    {
      "cell_type": "code",
      "execution_count": null,
      "metadata": {
        "id": "-luiMYAb5e9T",
        "outputId": "bd67bf93-2b98-4ff4-8d8f-3ae387a48319"
      },
      "outputs": [
        {
          "name": "stdout",
          "output_type": "stream",
          "text": [
            "[1, 2, 'THREE', 4, 0.5]\n"
          ]
        }
      ],
      "source": [
        "my_list"
      ]
    },
    {
      "cell_type": "code",
      "execution_count": null,
      "metadata": {
        "id": "eg2y2DII5e9T",
        "outputId": "92eb0e9e-dbe9-4a20-f7c2-4d09c195f725"
      },
      "outputs": [
        {
          "data": {
            "text/plain": [
              "list"
            ]
          },
          "execution_count": 72,
          "metadata": {},
          "output_type": "execute_result"
        }
      ],
      "source": [
        "type(my_list)"
      ]
    },
    {
      "cell_type": "markdown",
      "metadata": {
        "id": "5lD4PjCL5e9T"
      },
      "source": [
        "Lists can hold any datatype - even other lists!"
      ]
    },
    {
      "cell_type": "code",
      "execution_count": null,
      "metadata": {
        "id": "RnhdwuV15e9U",
        "outputId": "09d67284-c145-4f25-cc03-9bb87350d1e3"
      },
      "outputs": [
        {
          "name": "stdout",
          "output_type": "stream",
          "text": [
            "[1, 'two', [3, 4, 'five'], True, None, {'key': 'value'}]\n"
          ]
        }
      ],
      "source": [
        "another_list = [1, \"two\", [3, 4, \"five\"], True, None, {\"key\": \"value\"}]\n",
        "another_list"
      ]
    },
    {
      "cell_type": "markdown",
      "metadata": {
        "id": "vRxzjg1u5e9U"
      },
      "source": [
        "You can get the length of the list with the function `len()`:"
      ]
    },
    {
      "cell_type": "code",
      "execution_count": null,
      "metadata": {
        "id": "Lk6UgAMK5e9U",
        "outputId": "da7c6fc7-3ec5-4d5f-a9e0-8be8311a5808"
      },
      "outputs": [
        {
          "data": {
            "text/plain": [
              "5"
            ]
          },
          "execution_count": 74,
          "metadata": {},
          "output_type": "execute_result"
        }
      ],
      "source": [
        "len(my_list)"
      ]
    },
    {
      "cell_type": "markdown",
      "metadata": {
        "id": "BjE9mvtz5e9U"
      },
      "source": [
        "Tuples look similar to lists but have a key difference (they are immutable - but more on that a bit later). They are defined with parentheses `()`."
      ]
    },
    {
      "cell_type": "code",
      "execution_count": null,
      "metadata": {
        "id": "d0mlKwa55e9V"
      },
      "outputs": [],
      "source": [
        "today = (1, 2, \"THREE\", 4, 0.5)"
      ]
    },
    {
      "cell_type": "code",
      "execution_count": null,
      "metadata": {
        "id": "huoDj6DZ5e9V",
        "outputId": "d9a925d6-62e5-4ca6-a09e-b1c99f370901"
      },
      "outputs": [
        {
          "data": {
            "text/plain": [
              "(1, 2, 'THREE', 4, 0.5)"
            ]
          },
          "execution_count": 77,
          "metadata": {},
          "output_type": "execute_result"
        }
      ],
      "source": [
        "today"
      ]
    },
    {
      "cell_type": "code",
      "execution_count": null,
      "metadata": {
        "id": "PoObs8py5e9X",
        "outputId": "0ce1796c-714b-414d-8cbf-981c49efaf69"
      },
      "outputs": [
        {
          "data": {
            "text/plain": [
              "tuple"
            ]
          },
          "execution_count": 78,
          "metadata": {},
          "output_type": "execute_result"
        }
      ],
      "source": [
        "type(today)"
      ]
    },
    {
      "cell_type": "code",
      "execution_count": null,
      "metadata": {
        "id": "TjFyYyfl5e9X",
        "outputId": "f6b23a30-7ae5-4a22-ed23-86bdc5220f3a"
      },
      "outputs": [
        {
          "data": {
            "text/plain": [
              "5"
            ]
          },
          "execution_count": 79,
          "metadata": {},
          "output_type": "execute_result"
        }
      ],
      "source": [
        "len(today)"
      ]
    },
    {
      "cell_type": "markdown",
      "metadata": {
        "id": "BLAXdEha5e9Y"
      },
      "source": [
        "### Indexing and Slicing Sequences\n",
        "\n",
        "We can access values inside a list, tuple, or string using square bracket syntax. Python uses *zero-based indexing*, which means the first element of the list is in position 0, not position 1."
      ]
    },
    {
      "cell_type": "code",
      "execution_count": null,
      "metadata": {
        "id": "tQ9t3Pzw5e9Y",
        "outputId": "b6fdb4e6-0e1a-4ec7-9370-d57d1115b5dd"
      },
      "outputs": [
        {
          "data": {
            "text/plain": [
              "[1, 2, 'THREE', 4, 0.5]"
            ]
          },
          "execution_count": 80,
          "metadata": {},
          "output_type": "execute_result"
        }
      ],
      "source": [
        "my_list"
      ]
    },
    {
      "cell_type": "code",
      "execution_count": null,
      "metadata": {
        "id": "cuqxYjVd5e9Z",
        "outputId": "18f8feca-0b54-4998-e8d8-3e776272dde6"
      },
      "outputs": [
        {
          "data": {
            "text/plain": [
              "1"
            ]
          },
          "execution_count": 81,
          "metadata": {},
          "output_type": "execute_result"
        }
      ],
      "source": [
        "my_list[0]"
      ]
    },
    {
      "cell_type": "code",
      "execution_count": null,
      "metadata": {
        "id": "esjb7ZSV5e9Z",
        "outputId": "c4acb623-e6f6-4350-e10d-52bf33237067"
      },
      "outputs": [
        {
          "data": {
            "text/plain": [
              "'THREE'"
            ]
          },
          "execution_count": 82,
          "metadata": {},
          "output_type": "execute_result"
        }
      ],
      "source": [
        "my_list[2]"
      ]
    },
    {
      "cell_type": "code",
      "execution_count": null,
      "metadata": {
        "id": "b5Za3H085e9Z",
        "outputId": "ca735055-c862-4c52-ba95-b0d18237814f"
      },
      "outputs": [
        {
          "data": {
            "text/plain": [
              "5"
            ]
          },
          "execution_count": 83,
          "metadata": {},
          "output_type": "execute_result"
        }
      ],
      "source": [
        "len(my_list)"
      ]
    },
    {
      "cell_type": "code",
      "execution_count": null,
      "metadata": {
        "tags": [
          "raises-exception"
        ],
        "id": "HJb3aZzk5e9Z",
        "outputId": "05ae86c1-7477-4fbe-eafb-165e71e01efa"
      },
      "outputs": [
        {
          "ename": "IndexError",
          "evalue": "list index out of range",
          "output_type": "error",
          "traceback": [
            "\u001b[0;31m---------------------------------------------------------------------------\u001b[0m",
            "\u001b[0;31mIndexError\u001b[0m                                Traceback (most recent call last)",
            "\u001b[0;32m<ipython-input-84-075ca585e721>\u001b[0m in \u001b[0;36m<module>\u001b[0;34m\u001b[0m\n\u001b[0;32m----> 1\u001b[0;31m \u001b[0mmy_list\u001b[0m\u001b[0;34m[\u001b[0m\u001b[0;36m5\u001b[0m\u001b[0;34m]\u001b[0m\u001b[0;34m\u001b[0m\u001b[0;34m\u001b[0m\u001b[0m\n\u001b[0m",
            "\u001b[0;31mIndexError\u001b[0m: list index out of range"
          ]
        }
      ],
      "source": [
        "my_list[5]"
      ]
    },
    {
      "cell_type": "markdown",
      "metadata": {
        "id": "jfmTDi8U5e9Z"
      },
      "source": [
        "We can use negative indices to count backwards from the end of the list."
      ]
    },
    {
      "cell_type": "code",
      "execution_count": null,
      "metadata": {
        "id": "cgmdgU4X5e9a",
        "outputId": "bd166235-dc50-4fc3-9a62-c504af09c0f9"
      },
      "outputs": [
        {
          "data": {
            "text/plain": [
              "[1, 2, 'THREE', 4, 0.5]"
            ]
          },
          "execution_count": 85,
          "metadata": {},
          "output_type": "execute_result"
        }
      ],
      "source": [
        "my_list"
      ]
    },
    {
      "cell_type": "code",
      "execution_count": null,
      "metadata": {
        "id": "eAlek6JL5e9a",
        "outputId": "9f5e8562-094f-44ec-dcac-5649b1b5747a"
      },
      "outputs": [
        {
          "data": {
            "text/plain": [
              "0.5"
            ]
          },
          "execution_count": 86,
          "metadata": {},
          "output_type": "execute_result"
        }
      ],
      "source": [
        "my_list[-1]"
      ]
    },
    {
      "cell_type": "code",
      "execution_count": null,
      "metadata": {
        "id": "AhUD59565e9a",
        "outputId": "5432ca08-4297-4ec9-cbbb-6e4c451d5940"
      },
      "outputs": [
        {
          "data": {
            "text/plain": [
              "4"
            ]
          },
          "execution_count": 87,
          "metadata": {},
          "output_type": "execute_result"
        }
      ],
      "source": [
        "my_list[-2]"
      ]
    },
    {
      "cell_type": "markdown",
      "metadata": {
        "id": "6uP2Fi0_5e9a"
      },
      "source": [
        "We can use the colon `:` to access a sub-sequence. This is called \"slicing\"."
      ]
    },
    {
      "cell_type": "code",
      "execution_count": null,
      "metadata": {
        "id": "9Ur0voY45e9a",
        "outputId": "f7a334e1-41f7-402a-d444-293eb1ea4986"
      },
      "outputs": [
        {
          "data": {
            "text/plain": [
              "[2, 'THREE']"
            ]
          },
          "execution_count": 88,
          "metadata": {},
          "output_type": "execute_result"
        }
      ],
      "source": [
        "my_list[1:3]"
      ]
    },
    {
      "cell_type": "markdown",
      "metadata": {
        "id": "E1Rk8dId5e9a"
      },
      "source": [
        "Note from the above that the start of the slice is inclusive and the end is exclusive. So `my_list[1:3]` fetches elements 1 and 2, but not 3."
      ]
    },
    {
      "cell_type": "markdown",
      "metadata": {
        "id": "gEPaIPJW5e9a"
      },
      "source": [
        "Strings behave the same as lists and tuples when it comes to indexing and slicing. Remember, we think of them as a *sequence* of characters."
      ]
    },
    {
      "cell_type": "code",
      "execution_count": null,
      "metadata": {
        "id": "BChZYSka5e9a"
      },
      "outputs": [],
      "source": [
        "alphabet = \"abcdefghijklmnopqrstuvwxyz\""
      ]
    },
    {
      "cell_type": "code",
      "execution_count": null,
      "metadata": {
        "id": "h0LY18dp5e9a",
        "outputId": "8674ae1b-de0b-4c1d-b311-f26bdc437b25"
      },
      "outputs": [
        {
          "data": {
            "text/plain": [
              "'a'"
            ]
          },
          "execution_count": 90,
          "metadata": {},
          "output_type": "execute_result"
        }
      ],
      "source": [
        "alphabet[0]"
      ]
    },
    {
      "cell_type": "code",
      "execution_count": null,
      "metadata": {
        "id": "_qKDtdJJ5e9a",
        "outputId": "2bb7c439-736d-412c-f9ed-3d2881e70580"
      },
      "outputs": [
        {
          "data": {
            "text/plain": [
              "'z'"
            ]
          },
          "execution_count": 91,
          "metadata": {},
          "output_type": "execute_result"
        }
      ],
      "source": [
        "alphabet[-1]"
      ]
    },
    {
      "cell_type": "code",
      "execution_count": null,
      "metadata": {
        "id": "8FbUr6A75e9b",
        "outputId": "2a73757e-3b36-4931-99a7-b689bd5ea0dd"
      },
      "outputs": [
        {
          "data": {
            "text/plain": [
              "'x'"
            ]
          },
          "execution_count": 92,
          "metadata": {},
          "output_type": "execute_result"
        }
      ],
      "source": [
        "alphabet[-3]"
      ]
    },
    {
      "cell_type": "code",
      "execution_count": null,
      "metadata": {
        "id": "WtngwnoZ5e9b",
        "outputId": "740dd187-3c30-45e2-d872-f92815554172"
      },
      "outputs": [
        {
          "data": {
            "text/plain": [
              "'abcde'"
            ]
          },
          "execution_count": 93,
          "metadata": {},
          "output_type": "execute_result"
        }
      ],
      "source": [
        "alphabet[:5]"
      ]
    },
    {
      "cell_type": "code",
      "execution_count": null,
      "metadata": {
        "id": "GBohqSHd5e9b",
        "outputId": "db5e4cd0-279d-495a-f1e6-40e7c36e8b0f"
      },
      "outputs": [
        {
          "data": {
            "text/plain": [
              "'mnopqrst'"
            ]
          },
          "execution_count": 94,
          "metadata": {},
          "output_type": "execute_result"
        }
      ],
      "source": [
        "alphabet[12:20]"
      ]
    },
    {
      "cell_type": "markdown",
      "metadata": {
        "id": "0B5dbr1s5e9b"
      },
      "source": [
        "### List Methods\n",
        "\n",
        "A list is an object and it has methods for interacting with its data. A method is like a function, it performs some operation with the data, but a method differs to a function in that it is defined on the object itself and accessed using a period `.`. For example, `my_list.append(item)` appends an item to the end of the list called `my_list`. You can see the documentation for more [list methods](https://docs.python.org/3/tutorial/datastructures.html#more-on-lists)."
      ]
    },
    {
      "cell_type": "code",
      "execution_count": null,
      "metadata": {
        "id": "-Dzfe5gk5e9b",
        "outputId": "860f3e46-d366-4ca4-9ff7-bb26b43b72bd"
      },
      "outputs": [
        {
          "data": {
            "text/plain": [
              "[2, 3, 5, 7, 11]"
            ]
          },
          "execution_count": 101,
          "metadata": {},
          "output_type": "execute_result"
        }
      ],
      "source": [
        "primes = [2, 3, 5, 7, 11]\n",
        "primes"
      ]
    },
    {
      "cell_type": "code",
      "execution_count": null,
      "metadata": {
        "id": "FS_ycH7j5e9b",
        "outputId": "7e5ebab7-2de2-4b76-b7bd-0afaf6d89c27"
      },
      "outputs": [
        {
          "data": {
            "text/plain": [
              "5"
            ]
          },
          "execution_count": 102,
          "metadata": {},
          "output_type": "execute_result"
        }
      ],
      "source": [
        "len(primes)"
      ]
    },
    {
      "cell_type": "code",
      "execution_count": null,
      "metadata": {
        "id": "95OR0VUH5e9b"
      },
      "outputs": [],
      "source": [
        "primes.append(13)"
      ]
    },
    {
      "cell_type": "code",
      "execution_count": null,
      "metadata": {
        "id": "K8eRn7gd5e9b",
        "outputId": "2db404ae-7f04-4652-d9f5-10af0b9fc875"
      },
      "outputs": [
        {
          "data": {
            "text/plain": [
              "[2, 3, 5, 7, 11, 13]"
            ]
          },
          "execution_count": 104,
          "metadata": {},
          "output_type": "execute_result"
        }
      ],
      "source": [
        "primes"
      ]
    },
    {
      "cell_type": "markdown",
      "metadata": {
        "id": "hX3VEtcc5e9b"
      },
      "source": [
        "### Sets\n",
        "\n",
        "Another built-in Python data type is the `set`, which stores an _un-ordered_ list of _unique_ items. Being unordered, sets do not record element position or order of insertion and so do not support indexing."
      ]
    },
    {
      "cell_type": "code",
      "execution_count": null,
      "metadata": {
        "id": "meNJC61-5e9c",
        "outputId": "3dd6ac82-8c32-4131-d208-7520dd535194"
      },
      "outputs": [
        {
          "data": {
            "text/plain": [
              "{2, 3, 5, 11}"
            ]
          },
          "execution_count": 105,
          "metadata": {},
          "output_type": "execute_result"
        }
      ],
      "source": [
        "s = {2, 3, 5, 11}\n",
        "s"
      ]
    },
    {
      "cell_type": "code",
      "execution_count": null,
      "metadata": {
        "id": "um9jHt905e9c",
        "outputId": "c0de3d0c-fb71-4683-9042-d656eead3d60"
      },
      "outputs": [
        {
          "data": {
            "text/plain": [
              "True"
            ]
          },
          "execution_count": 106,
          "metadata": {},
          "output_type": "execute_result"
        }
      ],
      "source": [
        "{1, 2, 3} == {3, 2, 1}"
      ]
    },
    {
      "cell_type": "code",
      "execution_count": null,
      "metadata": {
        "id": "OkYzdSeN5e9c",
        "outputId": "c2a9e66a-d26a-4c1a-dbb3-759cf75f7958"
      },
      "outputs": [
        {
          "data": {
            "text/plain": [
              "False"
            ]
          },
          "execution_count": 107,
          "metadata": {},
          "output_type": "execute_result"
        }
      ],
      "source": [
        "[1, 2, 3] == [3, 2, 1]"
      ]
    },
    {
      "cell_type": "code",
      "execution_count": null,
      "metadata": {
        "id": "csMcUFSS5e9c",
        "outputId": "aff0b559-1b68-49a0-fe4f-171f1e473ac7"
      },
      "outputs": [
        {
          "data": {
            "text/plain": [
              "{2, 3, 5, 11}"
            ]
          },
          "execution_count": 108,
          "metadata": {},
          "output_type": "execute_result"
        }
      ],
      "source": [
        "s.add(2)  # does nothing\n",
        "s"
      ]
    },
    {
      "cell_type": "code",
      "execution_count": null,
      "metadata": {
        "tags": [
          "raises-exception"
        ],
        "id": "Wq1kspcU5e9c",
        "outputId": "77d17636-8797-4f58-eb68-e6fb1cb81c6f"
      },
      "outputs": [
        {
          "ename": "TypeError",
          "evalue": "'set' object is not subscriptable",
          "output_type": "error",
          "traceback": [
            "\u001b[0;31m---------------------------------------------------------------------------\u001b[0m",
            "\u001b[0;31mTypeError\u001b[0m                                 Traceback (most recent call last)",
            "\u001b[0;32m<ipython-input-109-c9c96910e542>\u001b[0m in \u001b[0;36m<module>\u001b[0;34m\u001b[0m\n\u001b[0;32m----> 1\u001b[0;31m \u001b[0ms\u001b[0m\u001b[0;34m[\u001b[0m\u001b[0;36m0\u001b[0m\u001b[0;34m]\u001b[0m\u001b[0;34m\u001b[0m\u001b[0;34m\u001b[0m\u001b[0m\n\u001b[0m",
            "\u001b[0;31mTypeError\u001b[0m: 'set' object is not subscriptable"
          ]
        }
      ],
      "source": [
        "s[0]"
      ]
    },
    {
      "cell_type": "markdown",
      "metadata": {
        "id": "myF_Gozt5e9c"
      },
      "source": [
        "Above: throws an error because elements are not ordered and can't be indexing."
      ]
    },
    {
      "cell_type": "markdown",
      "metadata": {
        "id": "lj-MXQNs5e9c"
      },
      "source": [
        "### Mutable vs. Immutable Types\n",
        "\n",
        "Strings and tuples are immutable types which means they can't be modified. Lists are mutable and we can assign new values for its various entries. This is the main difference between lists and tuples."
      ]
    },
    {
      "cell_type": "code",
      "execution_count": null,
      "metadata": {
        "id": "5X_eIJp05e9c",
        "outputId": "051c349d-985b-493a-f1ac-125c82eb47e1"
      },
      "outputs": [
        {
          "data": {
            "text/plain": [
              "['Indiana', 'Fang', 'Linsey']"
            ]
          },
          "execution_count": 110,
          "metadata": {},
          "output_type": "execute_result"
        }
      ],
      "source": [
        "names_list = [\"Indiana\", \"Fang\", \"Linsey\"]\n",
        "names_list"
      ]
    },
    {
      "cell_type": "code",
      "execution_count": null,
      "metadata": {
        "id": "vLhre-JA5e9d",
        "outputId": "0eaaa2cc-28f5-4378-90a3-e15746599fa1"
      },
      "outputs": [
        {
          "data": {
            "text/plain": [
              "['Cool guy', 'Fang', 'Linsey']"
            ]
          },
          "execution_count": 111,
          "metadata": {},
          "output_type": "execute_result"
        }
      ],
      "source": [
        "names_list[0] = \"Cool guy\"\n",
        "names_list"
      ]
    },
    {
      "cell_type": "code",
      "execution_count": null,
      "metadata": {
        "id": "WCwE0IU25e9d",
        "outputId": "47811930-a7fc-4948-dd0a-b001d01253b6"
      },
      "outputs": [
        {
          "data": {
            "text/plain": [
              "('Indiana', 'Fang', 'Linsey')"
            ]
          },
          "execution_count": 112,
          "metadata": {},
          "output_type": "execute_result"
        }
      ],
      "source": [
        "names_tuple = (\"Indiana\", \"Fang\", \"Linsey\")\n",
        "names_tuple"
      ]
    },
    {
      "cell_type": "code",
      "execution_count": null,
      "metadata": {
        "tags": [
          "raises-exception"
        ],
        "id": "8XtQDaou5e9d",
        "outputId": "126ed06a-b918-4d19-d04c-b4fdee426c4a"
      },
      "outputs": [
        {
          "ename": "TypeError",
          "evalue": "'tuple' object does not support item assignment",
          "output_type": "error",
          "traceback": [
            "\u001b[0;31m---------------------------------------------------------------------------\u001b[0m",
            "\u001b[0;31mTypeError\u001b[0m                                 Traceback (most recent call last)",
            "\u001b[0;32m<ipython-input-113-bd6a1b77b220>\u001b[0m in \u001b[0;36m<module>\u001b[0;34m\u001b[0m\n\u001b[0;32m----> 1\u001b[0;31m \u001b[0mnames_tuple\u001b[0m\u001b[0;34m[\u001b[0m\u001b[0;36m0\u001b[0m\u001b[0;34m]\u001b[0m \u001b[0;34m=\u001b[0m \u001b[0;34m\"Not cool guy\"\u001b[0m\u001b[0;34m\u001b[0m\u001b[0;34m\u001b[0m\u001b[0m\n\u001b[0m",
            "\u001b[0;31mTypeError\u001b[0m: 'tuple' object does not support item assignment"
          ]
        }
      ],
      "source": [
        "names_tuple[0] = \"Not cool guy\""
      ]
    },
    {
      "cell_type": "markdown",
      "metadata": {
        "id": "bnf1eKAV5e9d"
      },
      "source": [
        "Same goes for strings. Once defined we cannot modifiy the characters of the string."
      ]
    },
    {
      "cell_type": "code",
      "execution_count": null,
      "metadata": {
        "id": "YzbNZoTj5e9d"
      },
      "outputs": [],
      "source": [
        "my_name = \"Tom\""
      ]
    },
    {
      "cell_type": "code",
      "execution_count": null,
      "metadata": {
        "tags": [
          "raises-exception"
        ],
        "id": "bmJNKnL_5e9d",
        "outputId": "b06f1a35-0126-4417-ef4c-c69c2ce5973c"
      },
      "outputs": [
        {
          "ename": "TypeError",
          "evalue": "'str' object does not support item assignment",
          "output_type": "error",
          "traceback": [
            "\u001b[0;31m---------------------------------------------------------------------------\u001b[0m",
            "\u001b[0;31mTypeError\u001b[0m                                 Traceback (most recent call last)",
            "\u001b[0;32m<ipython-input-115-9bfcf81dbcf0>\u001b[0m in \u001b[0;36m<module>\u001b[0;34m\u001b[0m\n\u001b[0;32m----> 1\u001b[0;31m \u001b[0mmy_name\u001b[0m\u001b[0;34m[\u001b[0m\u001b[0;34m-\u001b[0m\u001b[0;36m1\u001b[0m\u001b[0;34m]\u001b[0m \u001b[0;34m=\u001b[0m \u001b[0;34m\"q\"\u001b[0m\u001b[0;34m\u001b[0m\u001b[0;34m\u001b[0m\u001b[0m\n\u001b[0m",
            "\u001b[0;31mTypeError\u001b[0m: 'str' object does not support item assignment"
          ]
        }
      ],
      "source": [
        "my_name[-1] = \"q\""
      ]
    },
    {
      "cell_type": "code",
      "execution_count": null,
      "metadata": {
        "id": "LThz_WjV5e9d"
      },
      "outputs": [],
      "source": [
        "x = ([1, 2, 3], 5)"
      ]
    },
    {
      "cell_type": "code",
      "execution_count": null,
      "metadata": {
        "tags": [
          "raises-exception"
        ],
        "id": "5hgbPLXH5e9e",
        "outputId": "9c5298ff-a0f0-4e58-d67f-2034a78df0b3"
      },
      "outputs": [
        {
          "ename": "TypeError",
          "evalue": "'tuple' object does not support item assignment",
          "output_type": "error",
          "traceback": [
            "\u001b[0;31m---------------------------------------------------------------------------\u001b[0m",
            "\u001b[0;31mTypeError\u001b[0m                                 Traceback (most recent call last)",
            "\u001b[0;32m<ipython-input-117-415ce6bd0126>\u001b[0m in \u001b[0;36m<module>\u001b[0;34m\u001b[0m\n\u001b[0;32m----> 1\u001b[0;31m \u001b[0mx\u001b[0m\u001b[0;34m[\u001b[0m\u001b[0;36m1\u001b[0m\u001b[0;34m]\u001b[0m \u001b[0;34m=\u001b[0m \u001b[0;36m7\u001b[0m\u001b[0;34m\u001b[0m\u001b[0;34m\u001b[0m\u001b[0m\n\u001b[0m",
            "\u001b[0;31mTypeError\u001b[0m: 'tuple' object does not support item assignment"
          ]
        }
      ],
      "source": [
        "x[1] = 7"
      ]
    },
    {
      "cell_type": "code",
      "execution_count": null,
      "metadata": {
        "id": "y2OAljrZ5e9f",
        "outputId": "fc642eb2-5b08-4d3c-af60-cf29049020f5"
      },
      "outputs": [
        {
          "data": {
            "text/plain": [
              "([1, 2, 3], 5)"
            ]
          },
          "execution_count": 118,
          "metadata": {},
          "output_type": "execute_result"
        }
      ],
      "source": [
        "x"
      ]
    },
    {
      "cell_type": "code",
      "execution_count": null,
      "metadata": {
        "id": "6spUzuea5e9f"
      },
      "outputs": [],
      "source": [
        "x[0][1] = 4"
      ]
    },
    {
      "cell_type": "code",
      "execution_count": null,
      "metadata": {
        "id": "DjzS-0fy5e9f",
        "outputId": "5da3e3b8-e8bd-484b-9218-155cf58ef95a"
      },
      "outputs": [
        {
          "data": {
            "text/plain": [
              "([1, 4, 3], 5)"
            ]
          },
          "execution_count": 117,
          "metadata": {},
          "output_type": "execute_result"
        }
      ],
      "source": [
        "x"
      ]
    },
    {
      "cell_type": "markdown",
      "metadata": {
        "id": "2ajkx1EJ5e9f"
      },
      "source": [
        "## 4. String Methods\n",
        "<hr>"
      ]
    },
    {
      "cell_type": "markdown",
      "metadata": {
        "id": "fIUWm7rU5e9f"
      },
      "source": [
        "There are various useful string methods in Python."
      ]
    },
    {
      "cell_type": "code",
      "execution_count": null,
      "metadata": {
        "id": "wGAa8s5X5e9f",
        "outputId": "b649b746-4582-4258-fe7d-b9a9d3e0b25d"
      },
      "outputs": [
        {
          "data": {
            "text/plain": [
              "'HOW ARE YOU TODAY?'"
            ]
          },
          "execution_count": 120,
          "metadata": {},
          "output_type": "execute_result"
        }
      ],
      "source": [
        "all_caps = \"HOW ARE YOU TODAY?\"\n",
        "all_caps"
      ]
    },
    {
      "cell_type": "code",
      "execution_count": null,
      "metadata": {
        "id": "u6gayMUb5e9f",
        "outputId": "f5e1a775-55d7-42e9-b704-300f749996dd"
      },
      "outputs": [
        {
          "data": {
            "text/plain": [
              "'how are you today?'"
            ]
          },
          "execution_count": 121,
          "metadata": {},
          "output_type": "execute_result"
        }
      ],
      "source": [
        "new_str = all_caps.lower()\n",
        "new_str"
      ]
    },
    {
      "cell_type": "markdown",
      "metadata": {
        "id": "eUruLLsV5e9f"
      },
      "source": [
        "Note that the method lower doesn't change the original string but rather returns a new one."
      ]
    },
    {
      "cell_type": "code",
      "execution_count": null,
      "metadata": {
        "id": "kPyVDQFk5e9f",
        "outputId": "98c6cf90-cf6f-41df-ce63-f94b34861fa1"
      },
      "outputs": [
        {
          "data": {
            "text/plain": [
              "'HOW ARE YOU TODAY?'"
            ]
          },
          "execution_count": 122,
          "metadata": {},
          "output_type": "execute_result"
        }
      ],
      "source": [
        "all_caps"
      ]
    },
    {
      "cell_type": "markdown",
      "metadata": {
        "id": "2hSOxrgk5e9f"
      },
      "source": [
        "There are *many* string methods. Check out the [documentation](https://docs.python.org/3/library/stdtypes.html#string-methods)."
      ]
    },
    {
      "cell_type": "code",
      "execution_count": null,
      "metadata": {
        "id": "JVeGsPrg5e9f",
        "outputId": "8bea7353-faae-4698-dcb7-bfe2c81dfe8a"
      },
      "outputs": [
        {
          "data": {
            "text/plain": [
              "['HOW', 'ARE', 'YOU', 'TODAY?']"
            ]
          },
          "execution_count": 123,
          "metadata": {},
          "output_type": "execute_result"
        }
      ],
      "source": [
        "all_caps.split()"
      ]
    },
    {
      "cell_type": "code",
      "execution_count": null,
      "metadata": {
        "id": "ikTArYx35e9g",
        "outputId": "bb978db1-443d-4ee4-ac4c-09d1b97ce807"
      },
      "outputs": [
        {
          "data": {
            "text/plain": [
              "3"
            ]
          },
          "execution_count": 124,
          "metadata": {},
          "output_type": "execute_result"
        }
      ],
      "source": [
        "all_caps.count(\"O\")"
      ]
    },
    {
      "cell_type": "markdown",
      "metadata": {
        "id": "C7fBoJKu5e9g"
      },
      "source": [
        "One can explicitly cast a string to a list:"
      ]
    },
    {
      "cell_type": "code",
      "execution_count": null,
      "metadata": {
        "id": "AmMyG8uF5e9g",
        "outputId": "1fda3e81-63cd-4ef8-fac3-8a8d6568bda6"
      },
      "outputs": [
        {
          "data": {
            "text/plain": [
              "['H',\n",
              " 'O',\n",
              " 'W',\n",
              " ' ',\n",
              " 'A',\n",
              " 'R',\n",
              " 'E',\n",
              " ' ',\n",
              " 'Y',\n",
              " 'O',\n",
              " 'U',\n",
              " ' ',\n",
              " 'T',\n",
              " 'O',\n",
              " 'D',\n",
              " 'A',\n",
              " 'Y',\n",
              " '?']"
            ]
          },
          "execution_count": 125,
          "metadata": {},
          "output_type": "execute_result"
        }
      ],
      "source": [
        "caps_list = list(all_caps)\n",
        "caps_list"
      ]
    },
    {
      "cell_type": "code",
      "execution_count": null,
      "metadata": {
        "id": "nCkFYVa75e9g",
        "outputId": "f10ad1c7-36c6-494f-d0f9-4341643fcef6"
      },
      "outputs": [
        {
          "data": {
            "text/plain": [
              "'HOW ARE YOU TODAY?'"
            ]
          },
          "execution_count": 126,
          "metadata": {},
          "output_type": "execute_result"
        }
      ],
      "source": [
        "\"\".join(caps_list)"
      ]
    },
    {
      "cell_type": "code",
      "execution_count": null,
      "metadata": {
        "id": "2rneESyd5e9g",
        "outputId": "52ba88e4-3fc9-4a40-a65c-ba63f4b1b47d"
      },
      "outputs": [
        {
          "data": {
            "text/plain": [
              "'H-O-W- -A-R-E- -Y-O-U- -T-O-D-A-Y-?'"
            ]
          },
          "execution_count": 127,
          "metadata": {},
          "output_type": "execute_result"
        }
      ],
      "source": [
        "\"-\".join(caps_list)"
      ]
    },
    {
      "cell_type": "markdown",
      "metadata": {
        "id": "UCw8oy3f5e9g"
      },
      "source": [
        "We can also chain multiple methods together (more on this when we get to NumPy and Pandas in later chapters):"
      ]
    },
    {
      "cell_type": "code",
      "execution_count": null,
      "metadata": {
        "id": "T_2QCqwP5e9g",
        "outputId": "b62ea55d-3112-44e1-8e2b-a26224f3d4d4"
      },
      "outputs": [
        {
          "data": {
            "text/plain": [
              "['how', 'are', 'you', 'today?']"
            ]
          },
          "execution_count": 128,
          "metadata": {},
          "output_type": "execute_result"
        }
      ],
      "source": [
        "\"\".join(caps_list).lower().split(\" \")"
      ]
    },
    {
      "cell_type": "markdown",
      "metadata": {
        "id": "BEej5eee5e9g"
      },
      "source": [
        "### String formatting\n",
        "\n",
        "Python has ways of creating strings by \"filling in the blanks\" and formatting them nicely. This is helpful for when you want to print statements that include variables or statements. There are a few ways of doing this but I use and recommend [f-strings](https://docs.python.org/3.6/whatsnew/3.6.html#whatsnew36-pep498) which were introduced in Python 3.6. All you need to do is put the letter \"f\" out the front of your string and then you can include variables with curly-bracket notation `{}`."
      ]
    },
    {
      "cell_type": "code",
      "execution_count": null,
      "metadata": {
        "id": "qZV3sq6h5e9h",
        "outputId": "7efd1d9b-918e-4963-e76c-bb2f8a50130c"
      },
      "outputs": [
        {
          "data": {
            "text/plain": [
              "'Hello, my name is Newborn Baby. I am 0.33 years old. I was born 10/06/2020.'"
            ]
          },
          "execution_count": 130,
          "metadata": {},
          "output_type": "execute_result"
        }
      ],
      "source": [
        "name = \"Newborn Baby\"\n",
        "age = 4 / 12\n",
        "day = 10\n",
        "month = 6\n",
        "year = 2020\n",
        "template_new = f\"Hello, my name is {name}. I am {age:.2f} years old. I was born {day}/{month:02}/{year}.\"\n",
        "template_new"
      ]
    },
    {
      "cell_type": "markdown",
      "metadata": {
        "id": "pmZqJTsN5e9h"
      },
      "source": [
        "```{note} Notes require **no** arguments,\n",
        "In the code above, the notation after the colon in my curly braces is for formatting. For example, `:.2f` means, print this variable with 2 decimal places. See format code options [here](https://docs.python.org/3.4/library/string.html#format-specification-mini-language).\n",
        "```"
      ]
    },
    {
      "cell_type": "markdown",
      "metadata": {
        "id": "GoD5gHF_5e9h"
      },
      "source": [
        "## 5. Dictionaries\n",
        "<hr>"
      ]
    },
    {
      "cell_type": "markdown",
      "metadata": {
        "id": "BSFhwqZZ5e9h"
      },
      "source": [
        "A dictionary is a mapping between key-values pairs and is defined with curly-brackets:"
      ]
    },
    {
      "cell_type": "code",
      "execution_count": null,
      "metadata": {
        "id": "kK5XFwLS5e9h"
      },
      "outputs": [],
      "source": [
        "house = {\n",
        "    \"bedrooms\": 3,\n",
        "    \"bathrooms\": 2,\n",
        "    \"city\": \"Vancouver\",\n",
        "    \"price\": 2499999,\n",
        "    \"date_sold\": (1, 3, 2015),\n",
        "}\n",
        "\n",
        "condo = {\n",
        "    \"bedrooms\": 2,\n",
        "    \"bathrooms\": 1,\n",
        "    \"city\": \"Burnaby\",\n",
        "    \"price\": 699999,\n",
        "    \"date_sold\": (27, 8, 2011),\n",
        "}"
      ]
    },
    {
      "cell_type": "markdown",
      "metadata": {
        "id": "2ulgYmAx5e9h"
      },
      "source": [
        "We can access a specific field of a dictionary with square brackets:"
      ]
    },
    {
      "cell_type": "code",
      "execution_count": null,
      "metadata": {
        "id": "zuLlzbGA5e9h",
        "outputId": "c298a6b2-f55b-4692-bc2a-e34e03df9de0"
      },
      "outputs": [
        {
          "data": {
            "text/plain": [
              "2499999"
            ]
          },
          "execution_count": 132,
          "metadata": {},
          "output_type": "execute_result"
        }
      ],
      "source": [
        "house[\"price\"]"
      ]
    },
    {
      "cell_type": "code",
      "execution_count": null,
      "metadata": {
        "id": "X3T7BePW5e9h",
        "outputId": "cff716cb-1930-4410-ef59-1488b1002ed5"
      },
      "outputs": [
        {
          "data": {
            "text/plain": [
              "'Burnaby'"
            ]
          },
          "execution_count": 133,
          "metadata": {},
          "output_type": "execute_result"
        }
      ],
      "source": [
        "condo[\"city\"]"
      ]
    },
    {
      "cell_type": "markdown",
      "metadata": {
        "id": "n25rtp8W5e9h"
      },
      "source": [
        "We can also edit dictionaries (they are mutable):"
      ]
    },
    {
      "cell_type": "code",
      "execution_count": null,
      "metadata": {
        "id": "ahllou8F5e9h",
        "outputId": "ada6c209-1b24-46b9-a4a4-b0c673bfe3eb"
      },
      "outputs": [
        {
          "data": {
            "text/plain": [
              "{'bedrooms': 2,\n",
              " 'bathrooms': 1,\n",
              " 'city': 'Burnaby',\n",
              " 'price': 5,\n",
              " 'date_sold': (27, 8, 2011)}"
            ]
          },
          "execution_count": 134,
          "metadata": {},
          "output_type": "execute_result"
        }
      ],
      "source": [
        "condo[\"price\"] = 5  # price already in the dict\n",
        "condo"
      ]
    },
    {
      "cell_type": "code",
      "execution_count": null,
      "metadata": {
        "id": "n-EJY3tw5e9h"
      },
      "outputs": [],
      "source": [
        "condo[\"flooring\"] = \"wood\""
      ]
    },
    {
      "cell_type": "code",
      "execution_count": null,
      "metadata": {
        "id": "OmZN4M6b5e9h",
        "outputId": "9b4bb964-929b-48ea-f1df-9b18343471df"
      },
      "outputs": [
        {
          "data": {
            "text/plain": [
              "{'bedrooms': 2,\n",
              " 'bathrooms': 1,\n",
              " 'city': 'Burnaby',\n",
              " 'price': 5,\n",
              " 'date_sold': (27, 8, 2011),\n",
              " 'flooring': 'wood'}"
            ]
          },
          "execution_count": 136,
          "metadata": {},
          "output_type": "execute_result"
        }
      ],
      "source": [
        "condo"
      ]
    },
    {
      "cell_type": "markdown",
      "metadata": {
        "id": "3dcvJKeM5e9h"
      },
      "source": [
        "We can also delete fields entirely (though I rarely use this):"
      ]
    },
    {
      "cell_type": "code",
      "execution_count": null,
      "metadata": {
        "id": "vM2vWXKs5e9h",
        "outputId": "36282750-405f-4cd2-8ef4-aa2ae79419aa"
      },
      "outputs": [
        {
          "ename": "KeyError",
          "evalue": "'city'",
          "output_type": "error",
          "traceback": [
            "\u001b[0;31m---------------------------------------------------------------------------\u001b[0m",
            "\u001b[0;31mKeyError\u001b[0m                                  Traceback (most recent call last)",
            "\u001b[0;32m<ipython-input-138-c9f116276b74>\u001b[0m in \u001b[0;36m<module>\u001b[0;34m\u001b[0m\n\u001b[0;32m----> 1\u001b[0;31m \u001b[0;32mdel\u001b[0m \u001b[0mcondo\u001b[0m\u001b[0;34m[\u001b[0m\u001b[0;34m\"city\"\u001b[0m\u001b[0;34m]\u001b[0m\u001b[0;34m\u001b[0m\u001b[0;34m\u001b[0m\u001b[0m\n\u001b[0m",
            "\u001b[0;31mKeyError\u001b[0m: 'city'"
          ]
        }
      ],
      "source": [
        "del condo[\"city\"]"
      ]
    },
    {
      "cell_type": "code",
      "execution_count": null,
      "metadata": {
        "id": "Q8TFeKtv5e9h",
        "outputId": "a251c6ef-c818-4691-d1f7-46ed195f6b93"
      },
      "outputs": [
        {
          "data": {
            "text/plain": [
              "{'bedrooms': 2,\n",
              " 'bathrooms': 1,\n",
              " 'price': 5,\n",
              " 'date_sold': (27, 8, 2011),\n",
              " 'flooring': 'wood'}"
            ]
          },
          "execution_count": 139,
          "metadata": {},
          "output_type": "execute_result"
        }
      ],
      "source": [
        "condo"
      ]
    },
    {
      "cell_type": "markdown",
      "metadata": {
        "id": "tYpiNSRi5e9i"
      },
      "source": [
        "And we can easily add fields:"
      ]
    },
    {
      "cell_type": "code",
      "execution_count": null,
      "metadata": {
        "id": "yZFZJ8WK5e9i"
      },
      "outputs": [],
      "source": [
        "condo[5] = 443345"
      ]
    },
    {
      "cell_type": "code",
      "execution_count": null,
      "metadata": {
        "id": "kqUHllSU5e9j",
        "outputId": "7fd9771f-2e0f-432d-aeb9-4d0f1dd4da0a"
      },
      "outputs": [
        {
          "data": {
            "text/plain": [
              "{'bedrooms': 2,\n",
              " 'bathrooms': 1,\n",
              " 'price': 5,\n",
              " 'date_sold': (27, 8, 2011),\n",
              " 'flooring': 'wood',\n",
              " 5: 443345}"
            ]
          },
          "execution_count": 141,
          "metadata": {},
          "output_type": "execute_result"
        }
      ],
      "source": [
        "condo"
      ]
    },
    {
      "cell_type": "markdown",
      "metadata": {
        "id": "dy7jbqb-5e9j"
      },
      "source": [
        "Keys may be any immutable data type, even a `tuple`!"
      ]
    },
    {
      "cell_type": "code",
      "execution_count": null,
      "metadata": {
        "id": "s_Ti0uFl5e9j",
        "outputId": "276675a4-37c1-498c-ffa6-6c37ea74d11f"
      },
      "outputs": [
        {
          "data": {
            "text/plain": [
              "{'bedrooms': 2,\n",
              " 'bathrooms': 1,\n",
              " 'price': 5,\n",
              " 'date_sold': (27, 8, 2011),\n",
              " 'flooring': 'wood',\n",
              " 5: 443345,\n",
              " (1, 2, 3): 777}"
            ]
          },
          "execution_count": 142,
          "metadata": {},
          "output_type": "execute_result"
        }
      ],
      "source": [
        "condo[(1, 2, 3)] = 777\n",
        "condo"
      ]
    },
    {
      "cell_type": "markdown",
      "metadata": {
        "id": "xhsAQdIj5e9j"
      },
      "source": [
        "You'll get an error if you try to access a non-existent key:"
      ]
    },
    {
      "cell_type": "code",
      "execution_count": null,
      "metadata": {
        "tags": [
          "raises-exception"
        ],
        "id": "f6j1EYcP5e9j",
        "outputId": "953d0ece-504f-4284-d255-d2fa8ab6064c"
      },
      "outputs": [
        {
          "ename": "KeyError",
          "evalue": "'not-here'",
          "output_type": "error",
          "traceback": [
            "\u001b[0;31m---------------------------------------------------------------------------\u001b[0m",
            "\u001b[0;31mKeyError\u001b[0m                                  Traceback (most recent call last)",
            "\u001b[0;32m<ipython-input-143-ab081f66baa5>\u001b[0m in \u001b[0;36m<module>\u001b[0;34m\u001b[0m\n\u001b[0;32m----> 1\u001b[0;31m \u001b[0mcondo\u001b[0m\u001b[0;34m[\u001b[0m\u001b[0;34m\"not-here\"\u001b[0m\u001b[0;34m]\u001b[0m\u001b[0;34m\u001b[0m\u001b[0;34m\u001b[0m\u001b[0m\n\u001b[0m",
            "\u001b[0;31mKeyError\u001b[0m: 'not-here'"
          ]
        }
      ],
      "source": [
        "condo[\"not-here\"]"
      ]
    },
    {
      "cell_type": "markdown",
      "metadata": {
        "id": "TrukqZ3s5e9j"
      },
      "source": [
        "## 6. Empties"
      ]
    },
    {
      "cell_type": "markdown",
      "metadata": {
        "id": "xQnVqhR_5e9j"
      },
      "source": [
        "Sometimes you'll want to create empty objects that will be filled later on."
      ]
    },
    {
      "cell_type": "code",
      "execution_count": null,
      "metadata": {
        "id": "Y2DUR9qw5e9j",
        "outputId": "e5cdcd98-cee9-4182-b58a-4057ca33c897"
      },
      "outputs": [
        {
          "data": {
            "text/plain": [
              "[]"
            ]
          },
          "execution_count": 144,
          "metadata": {},
          "output_type": "execute_result"
        }
      ],
      "source": [
        "lst = list()  # empty list\n",
        "lst"
      ]
    },
    {
      "cell_type": "code",
      "execution_count": null,
      "metadata": {
        "id": "TqdPMUA-5e9j",
        "outputId": "51cf2df6-90de-4b6d-9769-7bf0c0716696"
      },
      "outputs": [
        {
          "data": {
            "text/plain": [
              "[]"
            ]
          },
          "execution_count": 145,
          "metadata": {},
          "output_type": "execute_result"
        }
      ],
      "source": [
        "lst = []  # empty list\n",
        "lst"
      ]
    },
    {
      "cell_type": "markdown",
      "metadata": {
        "id": "6b3nHULc5e9j"
      },
      "source": [
        "There's no real difference between the two methods above, `[]` is apparently [marginally faster](https://stackoverflow.com/questions/2972212/creating-an-empty-list-in-python)..."
      ]
    },
    {
      "cell_type": "code",
      "execution_count": null,
      "metadata": {
        "id": "bnf497HZ5e9j",
        "outputId": "0911c4a2-9345-4680-d24c-0124837fa729"
      },
      "outputs": [
        {
          "data": {
            "text/plain": [
              "()"
            ]
          },
          "execution_count": 146,
          "metadata": {},
          "output_type": "execute_result"
        }
      ],
      "source": [
        "tup = tuple()  # empty tuple\n",
        "tup"
      ]
    },
    {
      "cell_type": "code",
      "execution_count": null,
      "metadata": {
        "id": "vtpB3Jpt5e9j",
        "outputId": "9b0b44ee-4b3a-47c9-cc46-2bcc645437b6"
      },
      "outputs": [
        {
          "data": {
            "text/plain": [
              "()"
            ]
          },
          "execution_count": 147,
          "metadata": {},
          "output_type": "execute_result"
        }
      ],
      "source": [
        "tup = ()  # empty tuple\n",
        "tup"
      ]
    },
    {
      "cell_type": "code",
      "execution_count": null,
      "metadata": {
        "id": "SwEpQaqH5e9j",
        "outputId": "7638e4c1-d7a5-4d90-dc6e-c784f899c349"
      },
      "outputs": [
        {
          "data": {
            "text/plain": [
              "{}"
            ]
          },
          "execution_count": 148,
          "metadata": {},
          "output_type": "execute_result"
        }
      ],
      "source": [
        "dic = dict()  # empty dict\n",
        "dic"
      ]
    },
    {
      "cell_type": "code",
      "execution_count": null,
      "metadata": {
        "id": "vwUvb3655e9j",
        "outputId": "b0c62a6f-cbeb-4b49-e3b5-376b8a95c160"
      },
      "outputs": [
        {
          "data": {
            "text/plain": [
              "{}"
            ]
          },
          "execution_count": 149,
          "metadata": {},
          "output_type": "execute_result"
        }
      ],
      "source": [
        "dic = {}  # empty dict\n",
        "dic"
      ]
    },
    {
      "cell_type": "code",
      "execution_count": null,
      "metadata": {
        "id": "pSAG3EYq5e9k",
        "outputId": "49400e1f-3bb1-4b84-a332-f6bb86563298"
      },
      "outputs": [
        {
          "data": {
            "text/plain": [
              "set()"
            ]
          },
          "execution_count": 150,
          "metadata": {},
          "output_type": "execute_result"
        }
      ],
      "source": [
        "st = set()  # empty set\n",
        "st"
      ]
    },
    {
      "cell_type": "markdown",
      "metadata": {
        "id": "JnIkAZxy5e9k"
      },
      "source": [
        "## 7. Conditionals\n",
        "<hr>"
      ]
    },
    {
      "cell_type": "markdown",
      "metadata": {
        "id": "7QDFRy6f5e9k"
      },
      "source": [
        "[Conditional statements](https://docs.python.org/3/tutorial/controlflow.html) allow us to write programs where only certain blocks of code are executed depending on the state of the program. Let's look at some examples and take note of the keywords, syntax and indentation. "
      ]
    },
    {
      "cell_type": "code",
      "execution_count": null,
      "metadata": {
        "id": "a2ygO4fa5e9k",
        "outputId": "2ad787d2-383c-435f-97b2-d08dd5693cf0"
      },
      "outputs": [
        {
          "name": "stdout",
          "output_type": "stream",
          "text": [
            "That's my name too!\n",
            "Nice to meet you!\n"
          ]
        }
      ],
      "source": [
        "name = \"Tom\"\n",
        "\n",
        "if name.lower() == \"tom\":\n",
        "    print(\"That's my name too!\")\n",
        "elif name.lower() == \"santa\":\n",
        "    print(\"That's a funny name.\")\n",
        "else:\n",
        "    print(f\"Hello {name}! That's a cool name!\")\n",
        "print(\"Nice to meet you!\")"
      ]
    },
    {
      "cell_type": "markdown",
      "metadata": {
        "id": "CvbIu0yq5e9k"
      },
      "source": [
        "The main points to notice:\n",
        "- Use keywords `if`, `elif` and `else`\n",
        "- The colon `:` ends each conditional expression\n",
        "- Indentation (by 4 empty space) defines code blocks\n",
        "- In an `if` statement, the first block whose conditional statement returns `True` is executed and the program exits the `if` block\n",
        "- `if` statements don't necessarily need `elif` or `else`\n",
        "- `elif` lets us check several conditions\n",
        "- `else` lets us evaluate a default block if all other conditions are `False`\n",
        "- the end of the entire `if` statement is where the indentation returns to the same level as the first `if` keyword"
      ]
    },
    {
      "cell_type": "markdown",
      "metadata": {
        "id": "A6nqKY8Q5e9k"
      },
      "source": [
        "If statements can also be **nested** inside of one another:"
      ]
    },
    {
      "cell_type": "code",
      "execution_count": null,
      "metadata": {
        "id": "lCr_4UZ75e9k",
        "outputId": "170cedbe-aa12-42ed-a788-cf2a4b2e13f5"
      },
      "outputs": [
        {
          "name": "stdout",
          "output_type": "stream",
          "text": [
            "Hello Super Tom! That's a cool name.\n",
            "Do you really have superpowers?\n",
            "Nice to meet you!\n"
          ]
        }
      ],
      "source": [
        "name = \"Super Tom\"\n",
        "\n",
        "if name.lower() == \"tom\":\n",
        "    print(\"That's my name too!\")\n",
        "elif name.lower() == \"santa\":\n",
        "    print(\"That's a funny name.\")\n",
        "else:\n",
        "    print(f\"Hello {name}! That's a cool name.\")\n",
        "    if name.lower().startswith(\"super\"):\n",
        "        print(\"Do you really have superpowers?\")\n",
        "\n",
        "print(\"Nice to meet you!\")"
      ]
    },
    {
      "cell_type": "markdown",
      "metadata": {
        "id": "75yrkBsB5e9k"
      },
      "source": [
        "### Inline if/else"
      ]
    },
    {
      "cell_type": "markdown",
      "metadata": {
        "id": "RGmQbxp05e9k"
      },
      "source": [
        "We can write simple `if` statements \"inline\", i.e., in a single line, for simplicity."
      ]
    },
    {
      "cell_type": "code",
      "execution_count": null,
      "metadata": {
        "jupyter": {
          "outputs_hidden": false
        },
        "id": "WNDuSPVx5e9k",
        "outputId": "193fae35-dbd9-4edf-f844-41502e37ad7a"
      },
      "outputs": [
        {
          "data": {
            "text/plain": [
              "'short list'"
            ]
          },
          "execution_count": 153,
          "metadata": {},
          "output_type": "execute_result"
        }
      ],
      "source": [
        "words = [\"the\", \"list\", \"of\", \"words\"]\n",
        "\n",
        "x = \"long list\" if len(words) > 10 else \"short list\"\n",
        "x"
      ]
    },
    {
      "cell_type": "code",
      "execution_count": null,
      "metadata": {
        "id": "M1zRlSVZ5e9k"
      },
      "outputs": [],
      "source": [
        "if len(words) > 10:\n",
        "    x = \"long list\"\n",
        "else:\n",
        "    x = \"short list\""
      ]
    },
    {
      "cell_type": "code",
      "execution_count": null,
      "metadata": {
        "id": "TyGHJpYH5e9l",
        "outputId": "74f1311c-ccac-4868-f8cd-a26a9237eadb"
      },
      "outputs": [
        {
          "data": {
            "text/plain": [
              "'short list'"
            ]
          },
          "execution_count": 155,
          "metadata": {},
          "output_type": "execute_result"
        }
      ],
      "source": [
        "x"
      ]
    },
    {
      "cell_type": "markdown",
      "metadata": {
        "id": "pV64X_GQ5e9l"
      },
      "source": [
        "### Truth Value Testing"
      ]
    },
    {
      "cell_type": "markdown",
      "metadata": {
        "id": "_QLlb8P95e9l"
      },
      "source": [
        "Any object can be tested for \"truth\" in Python, for use in `if` and `while` (next chapter) statements.\n",
        "- `True` values: all objects return `True` unless they are a `bool` object with value `False` or have `len()` == 0\n",
        "- `False` values: `None`, `False`, `0`, empty sequences and collections: `''`, `()`, `[]`, `{}`, `set()`\n",
        "\n",
        "```{tip}\n",
        "Read more in the [docs here](https://docs.python.org/3/library/stdtypes.html#truth-value-testing).\n",
        "```"
      ]
    },
    {
      "cell_type": "code",
      "execution_count": null,
      "metadata": {
        "id": "8Uc7uggJ5e9l",
        "outputId": "077f63c2-ab86-4273-df19-fd52dcc59966"
      },
      "outputs": [
        {
          "name": "stdout",
          "output_type": "stream",
          "text": [
            "I'm truthy!\n"
          ]
        }
      ],
      "source": [
        "x = 1\n",
        "\n",
        "if x:\n",
        "    print(\"I'm truthy!\")\n",
        "else:\n",
        "    print(\"I'm falsey!\")"
      ]
    },
    {
      "cell_type": "code",
      "execution_count": null,
      "metadata": {
        "id": "RN4l49BS5e9l",
        "outputId": "16c75d4e-aa50-40f2-8c92-53ea5d308ea7"
      },
      "outputs": [
        {
          "name": "stdout",
          "output_type": "stream",
          "text": [
            "I'm falsey!\n"
          ]
        }
      ],
      "source": [
        "x = False\n",
        "\n",
        "if x:\n",
        "    print(\"I'm truthy!\")\n",
        "else:\n",
        "    print(\"I'm falsey!\")"
      ]
    },
    {
      "cell_type": "code",
      "execution_count": null,
      "metadata": {
        "id": "rn2dT_lw5e9l",
        "outputId": "ce2c3d3f-f5ec-4ae6-b290-6b03b20d8edb"
      },
      "outputs": [
        {
          "name": "stdout",
          "output_type": "stream",
          "text": [
            "I'm falsey!\n"
          ]
        }
      ],
      "source": [
        "x = []\n",
        "\n",
        "if x:\n",
        "    print(\"I'm truthy!\")\n",
        "else:\n",
        "    print(\"I'm falsey!\")"
      ]
    },
    {
      "cell_type": "markdown",
      "metadata": {
        "id": "MbtH5TF65e9l"
      },
      "source": [
        "### Short-circuiting"
      ]
    },
    {
      "cell_type": "markdown",
      "metadata": {
        "id": "nuxmVZWY5e9l"
      },
      "source": [
        "Python supports a concept known as \"short-circuting\". This is the automatic stopping of the execution of boolean operation if the truth value of expression has already been determined."
      ]
    },
    {
      "cell_type": "code",
      "execution_count": null,
      "metadata": {
        "tags": [
          "raises-exception"
        ],
        "id": "UPzxXfQQ5e9l",
        "outputId": "8d299948-cca6-43fe-b975-8b9251c0df88"
      },
      "outputs": [
        {
          "ename": "NameError",
          "evalue": "name 'fake_variable' is not defined",
          "output_type": "error",
          "traceback": [
            "\u001b[0;31m---------------------------------------------------------------------------\u001b[0m",
            "\u001b[0;31mNameError\u001b[0m                                 Traceback (most recent call last)",
            "\u001b[0;32m<ipython-input-159-38b1451e4717>\u001b[0m in \u001b[0;36m<module>\u001b[0;34m\u001b[0m\n\u001b[0;32m----> 1\u001b[0;31m \u001b[0mfake_variable\u001b[0m  \u001b[0;31m# not defined\u001b[0m\u001b[0;34m\u001b[0m\u001b[0;34m\u001b[0m\u001b[0m\n\u001b[0m",
            "\u001b[0;31mNameError\u001b[0m: name 'fake_variable' is not defined"
          ]
        }
      ],
      "source": [
        "fake_variable  # not defined"
      ]
    },
    {
      "cell_type": "code",
      "execution_count": null,
      "metadata": {
        "id": "Up4pCGDs5e9l",
        "outputId": "a55ca736-0f3b-4b1b-89bb-e4fcbc7199a7"
      },
      "outputs": [
        {
          "data": {
            "text/plain": [
              "True"
            ]
          },
          "execution_count": 160,
          "metadata": {},
          "output_type": "execute_result"
        }
      ],
      "source": [
        "True or fake_variable"
      ]
    },
    {
      "cell_type": "code",
      "execution_count": null,
      "metadata": {
        "tags": [
          "raises-exception"
        ],
        "id": "rxWYJZoh5e9l",
        "outputId": "075134f3-6fbc-48f5-bcd1-d45fa6a3deeb"
      },
      "outputs": [
        {
          "ename": "NameError",
          "evalue": "name 'fake_variable' is not defined",
          "output_type": "error",
          "traceback": [
            "\u001b[0;31m---------------------------------------------------------------------------\u001b[0m",
            "\u001b[0;31mNameError\u001b[0m                                 Traceback (most recent call last)",
            "\u001b[0;32m<ipython-input-161-a7196cc665d5>\u001b[0m in \u001b[0;36m<module>\u001b[0;34m\u001b[0m\n\u001b[0;32m----> 1\u001b[0;31m \u001b[0;32mTrue\u001b[0m \u001b[0;32mand\u001b[0m \u001b[0mfake_variable\u001b[0m\u001b[0;34m\u001b[0m\u001b[0;34m\u001b[0m\u001b[0m\n\u001b[0m",
            "\u001b[0;31mNameError\u001b[0m: name 'fake_variable' is not defined"
          ]
        }
      ],
      "source": [
        "True and fake_variable"
      ]
    },
    {
      "cell_type": "code",
      "execution_count": null,
      "metadata": {
        "id": "POIA0CTj5e9l",
        "outputId": "8a465c46-621a-4b52-8066-ca5a75544998"
      },
      "outputs": [
        {
          "data": {
            "text/plain": [
              "False"
            ]
          },
          "execution_count": 162,
          "metadata": {},
          "output_type": "execute_result"
        }
      ],
      "source": [
        "False and fake_variable"
      ]
    },
    {
      "cell_type": "markdown",
      "metadata": {
        "id": "pWmq9ymZ5e9l"
      },
      "source": [
        "|Expression|Result|Detail|\n",
        "|---|---|---|\n",
        "|A or B|If A is `True` then A else B|B only executed if A is `False`|\n",
        "|A and B|If A is `False` then A else B|B only executed if A is `True`|"
      ]
    }
  ],
  "metadata": {
    "kernelspec": {
      "display_name": "Python 3",
      "language": "python",
      "name": "python3"
    },
    "language_info": {
      "codemirror_mode": {
        "name": "ipython",
        "version": 3
      },
      "file_extension": ".py",
      "mimetype": "text/x-python",
      "name": "python",
      "nbconvert_exporter": "python",
      "pygments_lexer": "ipython3",
      "version": "3.7.8"
    },
    "toc": {
      "base_numbering": 1,
      "nav_menu": {},
      "number_sections": false,
      "sideBar": true,
      "skip_h1_title": true,
      "title_cell": "Lecture Outline",
      "title_sidebar": "Contents",
      "toc_cell": true,
      "toc_position": {},
      "toc_section_display": true,
      "toc_window_display": true
    },
    "toc-autonumbering": false,
    "toc-showcode": false,
    "toc-showmarkdowntxt": false,
    "toc-showtags": false,
    "colab": {
      "name": "chapter1-basics.ipynb",
      "provenance": [],
      "toc_visible": true,
      "include_colab_link": true
    }
  },
  "nbformat": 4,
  "nbformat_minor": 0
}